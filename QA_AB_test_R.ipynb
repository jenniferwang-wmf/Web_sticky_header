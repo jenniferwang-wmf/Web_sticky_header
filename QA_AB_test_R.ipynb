{
 "cells": [
  {
   "cell_type": "markdown",
   "id": "a209ea1f",
   "metadata": {},
   "source": [
    "# Introduction\n",
    "\n",
    "[Instrumentation Ticket](https://phabricator.wikimedia.org/T292587)   | [QA Ticket](https://phabricator.wikimedia.org/T297852)"
   ]
  },
  {
   "cell_type": "markdown",
   "id": "8b23e2a2",
   "metadata": {},
   "source": [
    "# Instrumentation note\n",
    "\n",
    "Web team has deployed the instrumentation to track AB test enrollment.  \n",
    "The related events will be stored in `mediawiki_web_ab_test_enrollment` schema."
   ]
  },
  {
   "cell_type": "code",
   "execution_count": 1,
   "id": "b3fb184a",
   "metadata": {},
   "outputs": [],
   "source": [
    "shhh <- function(expr) suppressPackageStartupMessages(suppressWarnings(suppressMessages(expr)))\n",
    "shhh({\n",
    "library(tidyverse); \n",
    "library(lubridate); \n",
    "library(scales);\n",
    "library(magrittr); \n",
    "library(dplyr);\n",
    "})"
   ]
  },
  {
   "cell_type": "code",
   "execution_count": 2,
   "id": "caa70360",
   "metadata": {},
   "outputs": [
    {
     "data": {
      "text/html": [
       "<script>  \n",
       "code_show=true; \n",
       "function code_toggle() {\n",
       "  if (code_show){\n",
       "    $('div.input').hide();\n",
       "  } else {\n",
       "    $('div.input').show();\n",
       "  }\n",
       "  code_show = !code_show\n",
       "}  \n",
       "$( document ).ready(code_toggle);\n",
       "</script>\n",
       "  <form action=\"javascript:code_toggle()\">\n",
       "    <input type=\"submit\" value=\"Click here to toggle on/off the raw code.\">\n",
       " </form>"
      ]
     },
     "metadata": {},
     "output_type": "display_data"
    }
   ],
   "source": [
    "library(IRdisplay)\n",
    "\n",
    "display_html(\n",
    "'<script>  \n",
    "code_show=true; \n",
    "function code_toggle() {\n",
    "  if (code_show){\n",
    "    $(\\'div.input\\').hide();\n",
    "  } else {\n",
    "    $(\\'div.input\\').show();\n",
    "  }\n",
    "  code_show = !code_show\n",
    "}  \n",
    "$( document ).ready(code_toggle);\n",
    "</script>\n",
    "  <form action=\"javascript:code_toggle()\">\n",
    "    <input type=\"submit\" value=\"Click here to toggle on/off the raw code.\">\n",
    " </form>'\n",
    ")"
   ]
  },
  {
   "cell_type": "markdown",
   "id": "06637c96",
   "metadata": {},
   "source": [
    "# Check experiment group"
   ]
  },
  {
   "cell_type": "markdown",
   "id": "8582b7b8",
   "metadata": {},
   "source": [
    "__Note__:   \n",
    "\n",
    "QAed on 12/20/2021. "
   ]
  },
  {
   "cell_type": "code",
   "execution_count": 57,
   "id": "f39c917a",
   "metadata": {},
   "outputs": [],
   "source": [
    "query <- \"\n",
    "select wiki, TO_DATE(dt),`group`, count(1)\n",
    "FROM event.mediawiki_web_ab_test_enrollment\n",
    "WHERE year=2021\n",
    "GROUP BY wiki, TO_DATE(dt),`group`\n",
    "\""
   ]
  },
  {
   "cell_type": "code",
   "execution_count": 58,
   "id": "4695925c",
   "metadata": {},
   "outputs": [
    {
     "name": "stderr",
     "output_type": "stream",
     "text": [
      "Don't forget to authenticate with Kerberos using kinit\n",
      "\n"
     ]
    }
   ],
   "source": [
    "df <-  wmfdata::query_hive(query)"
   ]
  },
  {
   "cell_type": "code",
   "execution_count": 59,
   "id": "2ef47167",
   "metadata": {},
   "outputs": [
    {
     "data": {
      "text/html": [
       "<table class=\"dataframe\">\n",
       "<caption>A data.frame: 26 × 4</caption>\n",
       "<thead>\n",
       "\t<tr><th scope=col>wiki</th><th scope=col>X_c1</th><th scope=col>group</th><th scope=col>X_c3</th></tr>\n",
       "\t<tr><th scope=col>&lt;chr&gt;</th><th scope=col>&lt;chr&gt;</th><th scope=col>&lt;chr&gt;</th><th scope=col>&lt;int&gt;</th></tr>\n",
       "</thead>\n",
       "<tbody>\n",
       "\t<tr><td>testwiki</td><td>2021-12-13</td><td>control             </td><td>  7</td></tr>\n",
       "\t<tr><td>testwiki</td><td>2021-12-13</td><td>stickyHeaderEnabled </td><td>  9</td></tr>\n",
       "\t<tr><td>testwiki</td><td>2021-12-13</td><td>unsampled           </td><td>  8</td></tr>\n",
       "\t<tr><td>testwiki</td><td>2021-12-14</td><td>control             </td><td>163</td></tr>\n",
       "\t<tr><td>testwiki</td><td>2021-12-14</td><td>stickyHeaderDisabled</td><td> 11</td></tr>\n",
       "\t<tr><td>testwiki</td><td>2021-12-14</td><td>stickyHeaderEnabled </td><td> 85</td></tr>\n",
       "\t<tr><td>testwiki</td><td>2021-12-14</td><td>unsampled           </td><td>  7</td></tr>\n",
       "\t<tr><td>testwiki</td><td>2021-12-15</td><td>control             </td><td> 67</td></tr>\n",
       "\t<tr><td>testwiki</td><td>2021-12-15</td><td>stickyHeaderDisabled</td><td> 59</td></tr>\n",
       "\t<tr><td>testwiki</td><td>2021-12-15</td><td>stickyHeaderEnabled </td><td> 71</td></tr>\n",
       "\t<tr><td>testwiki</td><td>2021-12-16</td><td>control             </td><td> 27</td></tr>\n",
       "\t<tr><td>testwiki</td><td>2021-12-16</td><td>stickyHeaderDisabled</td><td>  9</td></tr>\n",
       "\t<tr><td>testwiki</td><td>2021-12-16</td><td>stickyHeaderEnabled </td><td> 10</td></tr>\n",
       "\t<tr><td>testwiki</td><td>2021-12-17</td><td>control             </td><td> 59</td></tr>\n",
       "\t<tr><td>testwiki</td><td>2021-12-17</td><td>stickyHeaderDisabled</td><td> 17</td></tr>\n",
       "\t<tr><td>testwiki</td><td>2021-12-17</td><td>stickyHeaderEnabled </td><td> 24</td></tr>\n",
       "\t<tr><td>testwiki</td><td>2021-12-18</td><td>control             </td><td>  6</td></tr>\n",
       "\t<tr><td>testwiki</td><td>2021-12-18</td><td>stickyHeaderDisabled</td><td> 12</td></tr>\n",
       "\t<tr><td>testwiki</td><td>2021-12-18</td><td>stickyHeaderEnabled </td><td> 20</td></tr>\n",
       "\t<tr><td>testwiki</td><td>2021-12-19</td><td>control             </td><td> 10</td></tr>\n",
       "\t<tr><td>testwiki</td><td>2021-12-19</td><td>stickyHeaderDisabled</td><td> 22</td></tr>\n",
       "\t<tr><td>testwiki</td><td>2021-12-19</td><td>stickyHeaderEnabled </td><td> 12</td></tr>\n",
       "\t<tr><td>testwiki</td><td>2021-12-20</td><td>control             </td><td> 46</td></tr>\n",
       "\t<tr><td>testwiki</td><td>2021-12-20</td><td>stickyHeaderDisabled</td><td> 15</td></tr>\n",
       "\t<tr><td>testwiki</td><td>2021-12-20</td><td>stickyHeaderEnabled </td><td>  3</td></tr>\n",
       "\t<tr><td>testwiki</td><td>2021-12-21</td><td>stickyHeaderEnabled </td><td> 15</td></tr>\n",
       "</tbody>\n",
       "</table>\n"
      ],
      "text/latex": [
       "A data.frame: 26 × 4\n",
       "\\begin{tabular}{llll}\n",
       " wiki & X\\_c1 & group & X\\_c3\\\\\n",
       " <chr> & <chr> & <chr> & <int>\\\\\n",
       "\\hline\n",
       "\t testwiki & 2021-12-13 & control              &   7\\\\\n",
       "\t testwiki & 2021-12-13 & stickyHeaderEnabled  &   9\\\\\n",
       "\t testwiki & 2021-12-13 & unsampled            &   8\\\\\n",
       "\t testwiki & 2021-12-14 & control              & 163\\\\\n",
       "\t testwiki & 2021-12-14 & stickyHeaderDisabled &  11\\\\\n",
       "\t testwiki & 2021-12-14 & stickyHeaderEnabled  &  85\\\\\n",
       "\t testwiki & 2021-12-14 & unsampled            &   7\\\\\n",
       "\t testwiki & 2021-12-15 & control              &  67\\\\\n",
       "\t testwiki & 2021-12-15 & stickyHeaderDisabled &  59\\\\\n",
       "\t testwiki & 2021-12-15 & stickyHeaderEnabled  &  71\\\\\n",
       "\t testwiki & 2021-12-16 & control              &  27\\\\\n",
       "\t testwiki & 2021-12-16 & stickyHeaderDisabled &   9\\\\\n",
       "\t testwiki & 2021-12-16 & stickyHeaderEnabled  &  10\\\\\n",
       "\t testwiki & 2021-12-17 & control              &  59\\\\\n",
       "\t testwiki & 2021-12-17 & stickyHeaderDisabled &  17\\\\\n",
       "\t testwiki & 2021-12-17 & stickyHeaderEnabled  &  24\\\\\n",
       "\t testwiki & 2021-12-18 & control              &   6\\\\\n",
       "\t testwiki & 2021-12-18 & stickyHeaderDisabled &  12\\\\\n",
       "\t testwiki & 2021-12-18 & stickyHeaderEnabled  &  20\\\\\n",
       "\t testwiki & 2021-12-19 & control              &  10\\\\\n",
       "\t testwiki & 2021-12-19 & stickyHeaderDisabled &  22\\\\\n",
       "\t testwiki & 2021-12-19 & stickyHeaderEnabled  &  12\\\\\n",
       "\t testwiki & 2021-12-20 & control              &  46\\\\\n",
       "\t testwiki & 2021-12-20 & stickyHeaderDisabled &  15\\\\\n",
       "\t testwiki & 2021-12-20 & stickyHeaderEnabled  &   3\\\\\n",
       "\t testwiki & 2021-12-21 & stickyHeaderEnabled  &  15\\\\\n",
       "\\end{tabular}\n"
      ],
      "text/markdown": [
       "\n",
       "A data.frame: 26 × 4\n",
       "\n",
       "| wiki &lt;chr&gt; | X_c1 &lt;chr&gt; | group &lt;chr&gt; | X_c3 &lt;int&gt; |\n",
       "|---|---|---|---|\n",
       "| testwiki | 2021-12-13 | control              |   7 |\n",
       "| testwiki | 2021-12-13 | stickyHeaderEnabled  |   9 |\n",
       "| testwiki | 2021-12-13 | unsampled            |   8 |\n",
       "| testwiki | 2021-12-14 | control              | 163 |\n",
       "| testwiki | 2021-12-14 | stickyHeaderDisabled |  11 |\n",
       "| testwiki | 2021-12-14 | stickyHeaderEnabled  |  85 |\n",
       "| testwiki | 2021-12-14 | unsampled            |   7 |\n",
       "| testwiki | 2021-12-15 | control              |  67 |\n",
       "| testwiki | 2021-12-15 | stickyHeaderDisabled |  59 |\n",
       "| testwiki | 2021-12-15 | stickyHeaderEnabled  |  71 |\n",
       "| testwiki | 2021-12-16 | control              |  27 |\n",
       "| testwiki | 2021-12-16 | stickyHeaderDisabled |   9 |\n",
       "| testwiki | 2021-12-16 | stickyHeaderEnabled  |  10 |\n",
       "| testwiki | 2021-12-17 | control              |  59 |\n",
       "| testwiki | 2021-12-17 | stickyHeaderDisabled |  17 |\n",
       "| testwiki | 2021-12-17 | stickyHeaderEnabled  |  24 |\n",
       "| testwiki | 2021-12-18 | control              |   6 |\n",
       "| testwiki | 2021-12-18 | stickyHeaderDisabled |  12 |\n",
       "| testwiki | 2021-12-18 | stickyHeaderEnabled  |  20 |\n",
       "| testwiki | 2021-12-19 | control              |  10 |\n",
       "| testwiki | 2021-12-19 | stickyHeaderDisabled |  22 |\n",
       "| testwiki | 2021-12-19 | stickyHeaderEnabled  |  12 |\n",
       "| testwiki | 2021-12-20 | control              |  46 |\n",
       "| testwiki | 2021-12-20 | stickyHeaderDisabled |  15 |\n",
       "| testwiki | 2021-12-20 | stickyHeaderEnabled  |   3 |\n",
       "| testwiki | 2021-12-21 | stickyHeaderEnabled  |  15 |\n",
       "\n"
      ],
      "text/plain": [
       "   wiki     X_c1       group                X_c3\n",
       "1  testwiki 2021-12-13 control                7 \n",
       "2  testwiki 2021-12-13 stickyHeaderEnabled    9 \n",
       "3  testwiki 2021-12-13 unsampled              8 \n",
       "4  testwiki 2021-12-14 control              163 \n",
       "5  testwiki 2021-12-14 stickyHeaderDisabled  11 \n",
       "6  testwiki 2021-12-14 stickyHeaderEnabled   85 \n",
       "7  testwiki 2021-12-14 unsampled              7 \n",
       "8  testwiki 2021-12-15 control               67 \n",
       "9  testwiki 2021-12-15 stickyHeaderDisabled  59 \n",
       "10 testwiki 2021-12-15 stickyHeaderEnabled   71 \n",
       "11 testwiki 2021-12-16 control               27 \n",
       "12 testwiki 2021-12-16 stickyHeaderDisabled   9 \n",
       "13 testwiki 2021-12-16 stickyHeaderEnabled   10 \n",
       "14 testwiki 2021-12-17 control               59 \n",
       "15 testwiki 2021-12-17 stickyHeaderDisabled  17 \n",
       "16 testwiki 2021-12-17 stickyHeaderEnabled   24 \n",
       "17 testwiki 2021-12-18 control                6 \n",
       "18 testwiki 2021-12-18 stickyHeaderDisabled  12 \n",
       "19 testwiki 2021-12-18 stickyHeaderEnabled   20 \n",
       "20 testwiki 2021-12-19 control               10 \n",
       "21 testwiki 2021-12-19 stickyHeaderDisabled  22 \n",
       "22 testwiki 2021-12-19 stickyHeaderEnabled   12 \n",
       "23 testwiki 2021-12-20 control               46 \n",
       "24 testwiki 2021-12-20 stickyHeaderDisabled  15 \n",
       "25 testwiki 2021-12-20 stickyHeaderEnabled    3 \n",
       "26 testwiki 2021-12-21 stickyHeaderEnabled   15 "
      ]
     },
     "metadata": {},
     "output_type": "display_data"
    }
   ],
   "source": [
    "df"
   ]
  },
  {
   "cell_type": "code",
   "execution_count": 60,
   "id": "32b6e56a",
   "metadata": {},
   "outputs": [],
   "source": [
    "query <- \"\n",
    "select wiki, TO_DATE(dt) AS date_time,`group`, count(distinct web_session_id) AS sessions\n",
    "FROM event.mediawiki_web_ab_test_enrollment\n",
    "WHERE year=2021\n",
    "GROUP BY wiki, TO_DATE(dt),`group`\n",
    "\""
   ]
  },
  {
   "cell_type": "code",
   "execution_count": 61,
   "id": "64d7ea9b",
   "metadata": {},
   "outputs": [
    {
     "name": "stderr",
     "output_type": "stream",
     "text": [
      "Don't forget to authenticate with Kerberos using kinit\n",
      "\n"
     ]
    }
   ],
   "source": [
    "df <-  wmfdata::query_hive(query)"
   ]
  },
  {
   "cell_type": "code",
   "execution_count": 62,
   "id": "4388b43c",
   "metadata": {},
   "outputs": [
    {
     "data": {
      "text/html": [
       "<table class=\"dataframe\">\n",
       "<caption>A data.frame: 26 × 4</caption>\n",
       "<thead>\n",
       "\t<tr><th scope=col>wiki</th><th scope=col>date_time</th><th scope=col>group</th><th scope=col>sessions</th></tr>\n",
       "\t<tr><th scope=col>&lt;chr&gt;</th><th scope=col>&lt;chr&gt;</th><th scope=col>&lt;chr&gt;</th><th scope=col>&lt;int&gt;</th></tr>\n",
       "</thead>\n",
       "<tbody>\n",
       "\t<tr><td>testwiki</td><td>2021-12-13</td><td>control             </td><td> 1</td></tr>\n",
       "\t<tr><td>testwiki</td><td>2021-12-13</td><td>stickyHeaderEnabled </td><td> 1</td></tr>\n",
       "\t<tr><td>testwiki</td><td>2021-12-13</td><td>unsampled           </td><td> 2</td></tr>\n",
       "\t<tr><td>testwiki</td><td>2021-12-14</td><td>control             </td><td>10</td></tr>\n",
       "\t<tr><td>testwiki</td><td>2021-12-14</td><td>stickyHeaderDisabled</td><td> 3</td></tr>\n",
       "\t<tr><td>testwiki</td><td>2021-12-14</td><td>stickyHeaderEnabled </td><td> 9</td></tr>\n",
       "\t<tr><td>testwiki</td><td>2021-12-14</td><td>unsampled           </td><td> 3</td></tr>\n",
       "\t<tr><td>testwiki</td><td>2021-12-15</td><td>control             </td><td> 5</td></tr>\n",
       "\t<tr><td>testwiki</td><td>2021-12-15</td><td>stickyHeaderDisabled</td><td> 4</td></tr>\n",
       "\t<tr><td>testwiki</td><td>2021-12-15</td><td>stickyHeaderEnabled </td><td> 7</td></tr>\n",
       "\t<tr><td>testwiki</td><td>2021-12-16</td><td>control             </td><td> 9</td></tr>\n",
       "\t<tr><td>testwiki</td><td>2021-12-16</td><td>stickyHeaderDisabled</td><td> 5</td></tr>\n",
       "\t<tr><td>testwiki</td><td>2021-12-16</td><td>stickyHeaderEnabled </td><td> 5</td></tr>\n",
       "\t<tr><td>testwiki</td><td>2021-12-17</td><td>control             </td><td>10</td></tr>\n",
       "\t<tr><td>testwiki</td><td>2021-12-17</td><td>stickyHeaderDisabled</td><td> 5</td></tr>\n",
       "\t<tr><td>testwiki</td><td>2021-12-17</td><td>stickyHeaderEnabled </td><td> 6</td></tr>\n",
       "\t<tr><td>testwiki</td><td>2021-12-18</td><td>control             </td><td> 2</td></tr>\n",
       "\t<tr><td>testwiki</td><td>2021-12-18</td><td>stickyHeaderDisabled</td><td> 3</td></tr>\n",
       "\t<tr><td>testwiki</td><td>2021-12-18</td><td>stickyHeaderEnabled </td><td> 2</td></tr>\n",
       "\t<tr><td>testwiki</td><td>2021-12-19</td><td>control             </td><td> 4</td></tr>\n",
       "\t<tr><td>testwiki</td><td>2021-12-19</td><td>stickyHeaderDisabled</td><td> 3</td></tr>\n",
       "\t<tr><td>testwiki</td><td>2021-12-19</td><td>stickyHeaderEnabled </td><td> 4</td></tr>\n",
       "\t<tr><td>testwiki</td><td>2021-12-20</td><td>control             </td><td> 6</td></tr>\n",
       "\t<tr><td>testwiki</td><td>2021-12-20</td><td>stickyHeaderDisabled</td><td> 4</td></tr>\n",
       "\t<tr><td>testwiki</td><td>2021-12-20</td><td>stickyHeaderEnabled </td><td> 1</td></tr>\n",
       "\t<tr><td>testwiki</td><td>2021-12-21</td><td>stickyHeaderEnabled </td><td> 1</td></tr>\n",
       "</tbody>\n",
       "</table>\n"
      ],
      "text/latex": [
       "A data.frame: 26 × 4\n",
       "\\begin{tabular}{llll}\n",
       " wiki & date\\_time & group & sessions\\\\\n",
       " <chr> & <chr> & <chr> & <int>\\\\\n",
       "\\hline\n",
       "\t testwiki & 2021-12-13 & control              &  1\\\\\n",
       "\t testwiki & 2021-12-13 & stickyHeaderEnabled  &  1\\\\\n",
       "\t testwiki & 2021-12-13 & unsampled            &  2\\\\\n",
       "\t testwiki & 2021-12-14 & control              & 10\\\\\n",
       "\t testwiki & 2021-12-14 & stickyHeaderDisabled &  3\\\\\n",
       "\t testwiki & 2021-12-14 & stickyHeaderEnabled  &  9\\\\\n",
       "\t testwiki & 2021-12-14 & unsampled            &  3\\\\\n",
       "\t testwiki & 2021-12-15 & control              &  5\\\\\n",
       "\t testwiki & 2021-12-15 & stickyHeaderDisabled &  4\\\\\n",
       "\t testwiki & 2021-12-15 & stickyHeaderEnabled  &  7\\\\\n",
       "\t testwiki & 2021-12-16 & control              &  9\\\\\n",
       "\t testwiki & 2021-12-16 & stickyHeaderDisabled &  5\\\\\n",
       "\t testwiki & 2021-12-16 & stickyHeaderEnabled  &  5\\\\\n",
       "\t testwiki & 2021-12-17 & control              & 10\\\\\n",
       "\t testwiki & 2021-12-17 & stickyHeaderDisabled &  5\\\\\n",
       "\t testwiki & 2021-12-17 & stickyHeaderEnabled  &  6\\\\\n",
       "\t testwiki & 2021-12-18 & control              &  2\\\\\n",
       "\t testwiki & 2021-12-18 & stickyHeaderDisabled &  3\\\\\n",
       "\t testwiki & 2021-12-18 & stickyHeaderEnabled  &  2\\\\\n",
       "\t testwiki & 2021-12-19 & control              &  4\\\\\n",
       "\t testwiki & 2021-12-19 & stickyHeaderDisabled &  3\\\\\n",
       "\t testwiki & 2021-12-19 & stickyHeaderEnabled  &  4\\\\\n",
       "\t testwiki & 2021-12-20 & control              &  6\\\\\n",
       "\t testwiki & 2021-12-20 & stickyHeaderDisabled &  4\\\\\n",
       "\t testwiki & 2021-12-20 & stickyHeaderEnabled  &  1\\\\\n",
       "\t testwiki & 2021-12-21 & stickyHeaderEnabled  &  1\\\\\n",
       "\\end{tabular}\n"
      ],
      "text/markdown": [
       "\n",
       "A data.frame: 26 × 4\n",
       "\n",
       "| wiki &lt;chr&gt; | date_time &lt;chr&gt; | group &lt;chr&gt; | sessions &lt;int&gt; |\n",
       "|---|---|---|---|\n",
       "| testwiki | 2021-12-13 | control              |  1 |\n",
       "| testwiki | 2021-12-13 | stickyHeaderEnabled  |  1 |\n",
       "| testwiki | 2021-12-13 | unsampled            |  2 |\n",
       "| testwiki | 2021-12-14 | control              | 10 |\n",
       "| testwiki | 2021-12-14 | stickyHeaderDisabled |  3 |\n",
       "| testwiki | 2021-12-14 | stickyHeaderEnabled  |  9 |\n",
       "| testwiki | 2021-12-14 | unsampled            |  3 |\n",
       "| testwiki | 2021-12-15 | control              |  5 |\n",
       "| testwiki | 2021-12-15 | stickyHeaderDisabled |  4 |\n",
       "| testwiki | 2021-12-15 | stickyHeaderEnabled  |  7 |\n",
       "| testwiki | 2021-12-16 | control              |  9 |\n",
       "| testwiki | 2021-12-16 | stickyHeaderDisabled |  5 |\n",
       "| testwiki | 2021-12-16 | stickyHeaderEnabled  |  5 |\n",
       "| testwiki | 2021-12-17 | control              | 10 |\n",
       "| testwiki | 2021-12-17 | stickyHeaderDisabled |  5 |\n",
       "| testwiki | 2021-12-17 | stickyHeaderEnabled  |  6 |\n",
       "| testwiki | 2021-12-18 | control              |  2 |\n",
       "| testwiki | 2021-12-18 | stickyHeaderDisabled |  3 |\n",
       "| testwiki | 2021-12-18 | stickyHeaderEnabled  |  2 |\n",
       "| testwiki | 2021-12-19 | control              |  4 |\n",
       "| testwiki | 2021-12-19 | stickyHeaderDisabled |  3 |\n",
       "| testwiki | 2021-12-19 | stickyHeaderEnabled  |  4 |\n",
       "| testwiki | 2021-12-20 | control              |  6 |\n",
       "| testwiki | 2021-12-20 | stickyHeaderDisabled |  4 |\n",
       "| testwiki | 2021-12-20 | stickyHeaderEnabled  |  1 |\n",
       "| testwiki | 2021-12-21 | stickyHeaderEnabled  |  1 |\n",
       "\n"
      ],
      "text/plain": [
       "   wiki     date_time  group                sessions\n",
       "1  testwiki 2021-12-13 control               1      \n",
       "2  testwiki 2021-12-13 stickyHeaderEnabled   1      \n",
       "3  testwiki 2021-12-13 unsampled             2      \n",
       "4  testwiki 2021-12-14 control              10      \n",
       "5  testwiki 2021-12-14 stickyHeaderDisabled  3      \n",
       "6  testwiki 2021-12-14 stickyHeaderEnabled   9      \n",
       "7  testwiki 2021-12-14 unsampled             3      \n",
       "8  testwiki 2021-12-15 control               5      \n",
       "9  testwiki 2021-12-15 stickyHeaderDisabled  4      \n",
       "10 testwiki 2021-12-15 stickyHeaderEnabled   7      \n",
       "11 testwiki 2021-12-16 control               9      \n",
       "12 testwiki 2021-12-16 stickyHeaderDisabled  5      \n",
       "13 testwiki 2021-12-16 stickyHeaderEnabled   5      \n",
       "14 testwiki 2021-12-17 control              10      \n",
       "15 testwiki 2021-12-17 stickyHeaderDisabled  5      \n",
       "16 testwiki 2021-12-17 stickyHeaderEnabled   6      \n",
       "17 testwiki 2021-12-18 control               2      \n",
       "18 testwiki 2021-12-18 stickyHeaderDisabled  3      \n",
       "19 testwiki 2021-12-18 stickyHeaderEnabled   2      \n",
       "20 testwiki 2021-12-19 control               4      \n",
       "21 testwiki 2021-12-19 stickyHeaderDisabled  3      \n",
       "22 testwiki 2021-12-19 stickyHeaderEnabled   4      \n",
       "23 testwiki 2021-12-20 control               6      \n",
       "24 testwiki 2021-12-20 stickyHeaderDisabled  4      \n",
       "25 testwiki 2021-12-20 stickyHeaderEnabled   1      \n",
       "26 testwiki 2021-12-21 stickyHeaderEnabled   1      "
      ]
     },
     "metadata": {},
     "output_type": "display_data"
    }
   ],
   "source": [
    "df"
   ]
  },
  {
   "cell_type": "markdown",
   "id": "ce09e450",
   "metadata": {},
   "source": [
    "__Note:__  \n",
    "\n",
    "Engineer confirmed that __unsampled__ sessions shouldn't be recordered.  FIXED since 12-15-2021. \n",
    "\n",
    "Potential bug:\n",
    "Each session only need to be recorded once as it should only be assigned to one group. Currently sessions are recorded multiple times. Confirmed with engineer that it's expected. [ticket](https://phabricator.wikimedia.org/T292587#7576512)"
   ]
  },
  {
   "cell_type": "markdown",
   "id": "48e19697",
   "metadata": {},
   "source": [
    "# Check whether `mediawiki_web_ab_test_enrollment` can join with click events on stiky header"
   ]
  },
  {
   "cell_type": "code",
   "execution_count": 119,
   "id": "fef36334",
   "metadata": {},
   "outputs": [],
   "source": [
    "query <- \"\n",
    "SELECT distinct event.name \n",
    "FROM event.DesktopWebUIActionsTracking\n",
    "WHERE event.name LIKE '%sticky%'\n",
    "AND YEAR =2021\n",
    "\""
   ]
  },
  {
   "cell_type": "code",
   "execution_count": 121,
   "id": "753f3a26",
   "metadata": {},
   "outputs": [
    {
     "name": "stderr",
     "output_type": "stream",
     "text": [
      "Don't forget to authenticate with Kerberos using kinit\n",
      "\n"
     ]
    }
   ],
   "source": [
    "df <- wmfdata::query_hive(query)"
   ]
  },
  {
   "cell_type": "code",
   "execution_count": 122,
   "id": "9578fbea",
   "metadata": {},
   "outputs": [
    {
     "data": {
      "text/html": [
       "<table class=\"dataframe\">\n",
       "<caption>A data.frame: 13 × 1</caption>\n",
       "<thead>\n",
       "\t<tr><th scope=col>name</th></tr>\n",
       "\t<tr><th scope=col>&lt;chr&gt;</th></tr>\n",
       "</thead>\n",
       "<tbody>\n",
       "\t<tr><td>ve-edit-protected-sticky-header     </td></tr>\n",
       "\t<tr><td>pt-userpage-sticky-header           </td></tr>\n",
       "\t<tr><td>wikitext-edit-sticky-header         </td></tr>\n",
       "\t<tr><td>ui.vector-sticky-search-form.icon   </td></tr>\n",
       "\t<tr><td>pt-mytalk-sticky-header             </td></tr>\n",
       "\t<tr><td>pt-watchlist-sticky-header          </td></tr>\n",
       "\t<tr><td>ve-edit-sticky-header               </td></tr>\n",
       "\t<tr><td>ui.dropdown-p-personal-sticky-header</td></tr>\n",
       "\t<tr><td>utcdate-sticky-header               </td></tr>\n",
       "\t<tr><td>ui.dropdown-p-lang-btn-sticky-header</td></tr>\n",
       "\t<tr><td>pt-mycontris-sticky-header          </td></tr>\n",
       "\t<tr><td>talk-sticky-header                  </td></tr>\n",
       "\t<tr><td>history-sticky-header               </td></tr>\n",
       "</tbody>\n",
       "</table>\n"
      ],
      "text/latex": [
       "A data.frame: 13 × 1\n",
       "\\begin{tabular}{l}\n",
       " name\\\\\n",
       " <chr>\\\\\n",
       "\\hline\n",
       "\t ve-edit-protected-sticky-header     \\\\\n",
       "\t pt-userpage-sticky-header           \\\\\n",
       "\t wikitext-edit-sticky-header         \\\\\n",
       "\t ui.vector-sticky-search-form.icon   \\\\\n",
       "\t pt-mytalk-sticky-header             \\\\\n",
       "\t pt-watchlist-sticky-header          \\\\\n",
       "\t ve-edit-sticky-header               \\\\\n",
       "\t ui.dropdown-p-personal-sticky-header\\\\\n",
       "\t utcdate-sticky-header               \\\\\n",
       "\t ui.dropdown-p-lang-btn-sticky-header\\\\\n",
       "\t pt-mycontris-sticky-header          \\\\\n",
       "\t talk-sticky-header                  \\\\\n",
       "\t history-sticky-header               \\\\\n",
       "\\end{tabular}\n"
      ],
      "text/markdown": [
       "\n",
       "A data.frame: 13 × 1\n",
       "\n",
       "| name &lt;chr&gt; |\n",
       "|---|\n",
       "| ve-edit-protected-sticky-header      |\n",
       "| pt-userpage-sticky-header            |\n",
       "| wikitext-edit-sticky-header          |\n",
       "| ui.vector-sticky-search-form.icon    |\n",
       "| pt-mytalk-sticky-header              |\n",
       "| pt-watchlist-sticky-header           |\n",
       "| ve-edit-sticky-header                |\n",
       "| ui.dropdown-p-personal-sticky-header |\n",
       "| utcdate-sticky-header                |\n",
       "| ui.dropdown-p-lang-btn-sticky-header |\n",
       "| pt-mycontris-sticky-header           |\n",
       "| talk-sticky-header                   |\n",
       "| history-sticky-header                |\n",
       "\n"
      ],
      "text/plain": [
       "   name                                \n",
       "1  ve-edit-protected-sticky-header     \n",
       "2  pt-userpage-sticky-header           \n",
       "3  wikitext-edit-sticky-header         \n",
       "4  ui.vector-sticky-search-form.icon   \n",
       "5  pt-mytalk-sticky-header             \n",
       "6  pt-watchlist-sticky-header          \n",
       "7  ve-edit-sticky-header               \n",
       "8  ui.dropdown-p-personal-sticky-header\n",
       "9  utcdate-sticky-header               \n",
       "10 ui.dropdown-p-lang-btn-sticky-header\n",
       "11 pt-mycontris-sticky-header          \n",
       "12 talk-sticky-header                  \n",
       "13 history-sticky-header               "
      ]
     },
     "metadata": {},
     "output_type": "display_data"
    }
   ],
   "source": [
    "df"
   ]
  },
  {
   "cell_type": "markdown",
   "id": "3ce99925",
   "metadata": {},
   "source": [
    "## Number of clicks on user menu"
   ]
  },
  {
   "cell_type": "code",
   "execution_count": 131,
   "id": "98a3e041",
   "metadata": {},
   "outputs": [],
   "source": [
    "query <- \n",
    "\"\n",
    "WITH t1 AS (\n",
    "SELECT \n",
    " web_session_id,\n",
    " year, month, day,\n",
    " `group` AS test_group,\n",
    " min(meta.dt) AS session_dt \n",
    "FROM event.mediawiki_web_ab_test_enrollment\n",
    "WHERE wiki='testwiki' and year=2021 and month=12 and day=14\n",
    "GROUP BY  web_session_id,\n",
    " year, month, day,\n",
    " `group`\n",
    ")\n",
    "SELECT t1.test_group, t2.event, t1.session_dt, t2.dt\n",
    "FROM t1\n",
    "LEFT JOIN event.DesktopWebUIActionsTracking AS t2 \n",
    "ON t1.year=t2.year AND t1.month=t2.month AND t1.day=t2.day \n",
    "AND t2.event.token = t1.web_session_id\n",
    "WHERE t1.year=2021 and t1.month=12 AND t1.day=14\n",
    "AND t2.wiki='testwiki'\n",
    "AND t2.event.name IN ('ui.dropdown-p-personal-sticky-header', \n",
    "'ve-edit-protected-sticky-header',\n",
    "'pt-userpage-sticky-header',\n",
    "'wikitext-edit-sticky-header',\n",
    "'ui.vector-sticky-search-form.icon',\n",
    "'pt-mytalk-sticky-header',\n",
    "'pt-watchlist-sticky-header',\n",
    "'ve-edit-sticky-header',\n",
    "'utcdate-sticky-header' ,\n",
    "'ui.dropdown-p-lang-btn-sticky-header' ,\n",
    "'pt-mycontris-sticky-header',\n",
    "'talk-sticky-header',\n",
    "'history-sticky-header'\n",
    ") \n",
    "LIMIT 100\n",
    "\"\n"
   ]
  },
  {
   "cell_type": "code",
   "execution_count": 132,
   "id": "139ae4d7",
   "metadata": {},
   "outputs": [
    {
     "name": "stderr",
     "output_type": "stream",
     "text": [
      "Don't forget to authenticate with Kerberos using kinit\n",
      "\n"
     ]
    }
   ],
   "source": [
    "df <- wmfdata::query_hive(query)"
   ]
  },
  {
   "cell_type": "code",
   "execution_count": 139,
   "id": "8bad7d4a",
   "metadata": {},
   "outputs": [],
   "source": [
    "query <- \n",
    "\"\n",
    "WITH t1 AS (\n",
    "SELECT \n",
    " web_session_id,\n",
    " year, month, day,\n",
    " `group` AS test_group,\n",
    " min(meta.dt) AS session_dt \n",
    "FROM event.mediawiki_web_ab_test_enrollment\n",
    "WHERE wiki='testwiki' and year=2021 and month=12 and day=14\n",
    "GROUP BY  web_session_id,\n",
    " year, month, day,\n",
    " `group`\n",
    ")\n",
    "SELECT t1.test_group, sum(IF (t2.event IS NULL, 0 , 1)) AS clicks, \n",
    "COUNT(DISTINCT t2.event.token) AS sessions, COUNT(t2.event),\n",
    "SUM( IF (t2.event IS NULL, 1 , 0))\n",
    "FROM t1\n",
    "LEFT OUTER JOIN event.DesktopWebUIActionsTracking AS t2 \n",
    "ON t1.year=t2.year AND t1.month=t2.month AND t1.day=t2.day \n",
    "AND t2.event.token = t1.web_session_id\n",
    "WHERE t1.year=2021 and t1.month=12 AND t1.day=14\n",
    "AND t1.session_dt < t2.dt\n",
    "AND t2.wiki='testwiki'\n",
    "AND t2.event.name IN ('ui.dropdown-p-personal', 'pt-watchlist' , 'pt-mytalk', \n",
    "'pt-sandbox', 'pt-preferences', 'pt-betafeatures', 'pt-mycontris', 'pt-logout',\n",
    "'ui.dropdown-p-personal-sticky-header', \n",
    "'ve-edit-protected-sticky-header',\n",
    "'pt-userpage-sticky-header',\n",
    "'wikitext-edit-sticky-header',\n",
    "'ui.vector-sticky-search-form.icon',\n",
    "'pt-mytalk-sticky-header',\n",
    "'pt-watchlist-sticky-header',\n",
    "'ve-edit-sticky-header',\n",
    "'utcdate-sticky-header' ,\n",
    "'ui.dropdown-p-lang-btn-sticky-header' ,\n",
    "'pt-mycontris-sticky-header',\n",
    "'talk-sticky-header',\n",
    "'history-sticky-header'\n",
    ") \n",
    "GROUP BY t1.test_group\n",
    "\""
   ]
  },
  {
   "cell_type": "code",
   "execution_count": 140,
   "id": "4559f14d",
   "metadata": {},
   "outputs": [
    {
     "name": "stderr",
     "output_type": "stream",
     "text": [
      "Don't forget to authenticate with Kerberos using kinit\n",
      "\n"
     ]
    }
   ],
   "source": [
    "df <- wmfdata::query_hive(query)"
   ]
  },
  {
   "cell_type": "code",
   "execution_count": 141,
   "id": "ba09dc7f",
   "metadata": {},
   "outputs": [
    {
     "data": {
      "text/html": [
       "<table class=\"dataframe\">\n",
       "<caption>A data.frame: 4 × 5</caption>\n",
       "<thead>\n",
       "\t<tr><th scope=col>test_group</th><th scope=col>clicks</th><th scope=col>sessions</th><th scope=col>X_c3</th><th scope=col>X_c4</th></tr>\n",
       "\t<tr><th scope=col>&lt;chr&gt;</th><th scope=col>&lt;int&gt;</th><th scope=col>&lt;int&gt;</th><th scope=col>&lt;int&gt;</th><th scope=col>&lt;int&gt;</th></tr>\n",
       "</thead>\n",
       "<tbody>\n",
       "\t<tr><td>control             </td><td> 1</td><td>1</td><td> 1</td><td>0</td></tr>\n",
       "\t<tr><td>stickyHeaderDisabled</td><td> 1</td><td>1</td><td> 1</td><td>0</td></tr>\n",
       "\t<tr><td>stickyHeaderEnabled </td><td>23</td><td>3</td><td>23</td><td>0</td></tr>\n",
       "\t<tr><td>unsampled           </td><td> 1</td><td>1</td><td> 1</td><td>0</td></tr>\n",
       "</tbody>\n",
       "</table>\n"
      ],
      "text/latex": [
       "A data.frame: 4 × 5\n",
       "\\begin{tabular}{lllll}\n",
       " test\\_group & clicks & sessions & X\\_c3 & X\\_c4\\\\\n",
       " <chr> & <int> & <int> & <int> & <int>\\\\\n",
       "\\hline\n",
       "\t control              &  1 & 1 &  1 & 0\\\\\n",
       "\t stickyHeaderDisabled &  1 & 1 &  1 & 0\\\\\n",
       "\t stickyHeaderEnabled  & 23 & 3 & 23 & 0\\\\\n",
       "\t unsampled            &  1 & 1 &  1 & 0\\\\\n",
       "\\end{tabular}\n"
      ],
      "text/markdown": [
       "\n",
       "A data.frame: 4 × 5\n",
       "\n",
       "| test_group &lt;chr&gt; | clicks &lt;int&gt; | sessions &lt;int&gt; | X_c3 &lt;int&gt; | X_c4 &lt;int&gt; |\n",
       "|---|---|---|---|---|\n",
       "| control              |  1 | 1 |  1 | 0 |\n",
       "| stickyHeaderDisabled |  1 | 1 |  1 | 0 |\n",
       "| stickyHeaderEnabled  | 23 | 3 | 23 | 0 |\n",
       "| unsampled            |  1 | 1 |  1 | 0 |\n",
       "\n"
      ],
      "text/plain": [
       "  test_group           clicks sessions X_c3 X_c4\n",
       "1 control               1     1         1   0   \n",
       "2 stickyHeaderDisabled  1     1         1   0   \n",
       "3 stickyHeaderEnabled  23     3        23   0   \n",
       "4 unsampled             1     1         1   0   "
      ]
     },
     "metadata": {},
     "output_type": "display_data"
    }
   ],
   "source": [
    "df"
   ]
  },
  {
   "cell_type": "markdown",
   "id": "c8b0b655",
   "metadata": {},
   "source": [
    "## Number of pageview on the same day"
   ]
  },
  {
   "cell_type": "code",
   "execution_count": 68,
   "id": "bfa200be",
   "metadata": {},
   "outputs": [],
   "source": [
    "query_pageview <- \n",
    "\"\n",
    "SELECT \n",
    " `group` AS test_group, COUNT(1) AS pageviews, count(distinct web_session_id) AS sessions\n",
    "FROM event.mediawiki_web_ab_test_enrollment\n",
    "WHERE wiki='testwiki' and year=2021 and month=12 and day=19\n",
    "GROUP BY `group`\n",
    "\""
   ]
  },
  {
   "cell_type": "code",
   "execution_count": 69,
   "id": "b75b8a69",
   "metadata": {},
   "outputs": [
    {
     "name": "stderr",
     "output_type": "stream",
     "text": [
      "Don't forget to authenticate with Kerberos using kinit\n",
      "\n"
     ]
    }
   ],
   "source": [
    "df <- wmfdata::query_hive(query_pageview)"
   ]
  },
  {
   "cell_type": "code",
   "execution_count": 70,
   "id": "69d2ce54",
   "metadata": {},
   "outputs": [
    {
     "data": {
      "text/html": [
       "<table class=\"dataframe\">\n",
       "<caption>A data.frame: 3 × 3</caption>\n",
       "<thead>\n",
       "\t<tr><th scope=col>test_group</th><th scope=col>pageviews</th><th scope=col>sessions</th></tr>\n",
       "\t<tr><th scope=col>&lt;chr&gt;</th><th scope=col>&lt;int&gt;</th><th scope=col>&lt;int&gt;</th></tr>\n",
       "</thead>\n",
       "<tbody>\n",
       "\t<tr><td>control             </td><td>10</td><td>4</td></tr>\n",
       "\t<tr><td>stickyHeaderDisabled</td><td>22</td><td>3</td></tr>\n",
       "\t<tr><td>stickyHeaderEnabled </td><td>12</td><td>4</td></tr>\n",
       "</tbody>\n",
       "</table>\n"
      ],
      "text/latex": [
       "A data.frame: 3 × 3\n",
       "\\begin{tabular}{lll}\n",
       " test\\_group & pageviews & sessions\\\\\n",
       " <chr> & <int> & <int>\\\\\n",
       "\\hline\n",
       "\t control              & 10 & 4\\\\\n",
       "\t stickyHeaderDisabled & 22 & 3\\\\\n",
       "\t stickyHeaderEnabled  & 12 & 4\\\\\n",
       "\\end{tabular}\n"
      ],
      "text/markdown": [
       "\n",
       "A data.frame: 3 × 3\n",
       "\n",
       "| test_group &lt;chr&gt; | pageviews &lt;int&gt; | sessions &lt;int&gt; |\n",
       "|---|---|---|\n",
       "| control              | 10 | 4 |\n",
       "| stickyHeaderDisabled | 22 | 3 |\n",
       "| stickyHeaderEnabled  | 12 | 4 |\n",
       "\n"
      ],
      "text/plain": [
       "  test_group           pageviews sessions\n",
       "1 control              10        4       \n",
       "2 stickyHeaderDisabled 22        3       \n",
       "3 stickyHeaderEnabled  12        4       "
      ]
     },
     "metadata": {},
     "output_type": "display_data"
    }
   ],
   "source": [
    "df"
   ]
  },
  {
   "cell_type": "markdown",
   "id": "9ddee3a2",
   "metadata": {},
   "source": [
    "## Check bucketing For data since 12-15-2021"
   ]
  },
  {
   "cell_type": "code",
   "execution_count": 92,
   "id": "964a1ca9",
   "metadata": {},
   "outputs": [],
   "source": [
    "query_pageview <- \n",
    "\"\n",
    "SELECT \n",
    " `group` AS test_group, COUNT(1) AS pageviews, count(distinct web_session_id) AS sessions\n",
    "FROM event.mediawiki_web_ab_test_enrollment\n",
    "WHERE wiki='testwiki' and year=2021 and month=12 and day>=15\n",
    "GROUP BY `group`\n",
    "\""
   ]
  },
  {
   "cell_type": "code",
   "execution_count": 93,
   "id": "5c1ba62a",
   "metadata": {},
   "outputs": [
    {
     "name": "stderr",
     "output_type": "stream",
     "text": [
      "Don't forget to authenticate with Kerberos using kinit\n",
      "\n"
     ]
    }
   ],
   "source": [
    "df <- wmfdata::query_hive(query_pageview)"
   ]
  },
  {
   "cell_type": "code",
   "execution_count": 94,
   "id": "82c14544",
   "metadata": {},
   "outputs": [
    {
     "data": {
      "text/html": [
       "<table class=\"dataframe\">\n",
       "<caption>A data.frame: 3 × 3</caption>\n",
       "<thead>\n",
       "\t<tr><th scope=col>test_group</th><th scope=col>pageviews</th><th scope=col>sessions</th></tr>\n",
       "\t<tr><th scope=col>&lt;chr&gt;</th><th scope=col>&lt;int&gt;</th><th scope=col>&lt;int&gt;</th></tr>\n",
       "</thead>\n",
       "<tbody>\n",
       "\t<tr><td>control             </td><td>215</td><td>31</td></tr>\n",
       "\t<tr><td>stickyHeaderDisabled</td><td>134</td><td>23</td></tr>\n",
       "\t<tr><td>stickyHeaderEnabled </td><td>155</td><td>26</td></tr>\n",
       "</tbody>\n",
       "</table>\n"
      ],
      "text/latex": [
       "A data.frame: 3 × 3\n",
       "\\begin{tabular}{lll}\n",
       " test\\_group & pageviews & sessions\\\\\n",
       " <chr> & <int> & <int>\\\\\n",
       "\\hline\n",
       "\t control              & 215 & 31\\\\\n",
       "\t stickyHeaderDisabled & 134 & 23\\\\\n",
       "\t stickyHeaderEnabled  & 155 & 26\\\\\n",
       "\\end{tabular}\n"
      ],
      "text/markdown": [
       "\n",
       "A data.frame: 3 × 3\n",
       "\n",
       "| test_group &lt;chr&gt; | pageviews &lt;int&gt; | sessions &lt;int&gt; |\n",
       "|---|---|---|\n",
       "| control              | 215 | 31 |\n",
       "| stickyHeaderDisabled | 134 | 23 |\n",
       "| stickyHeaderEnabled  | 155 | 26 |\n",
       "\n"
      ],
      "text/plain": [
       "  test_group           pageviews sessions\n",
       "1 control              215       31      \n",
       "2 stickyHeaderDisabled 134       23      \n",
       "3 stickyHeaderEnabled  155       26      "
      ]
     },
     "metadata": {},
     "output_type": "display_data"
    }
   ],
   "source": [
    "df"
   ]
  },
  {
   "cell_type": "code",
   "execution_count": 102,
   "id": "c71d7a47",
   "metadata": {},
   "outputs": [],
   "source": [
    "total_sessions <- sum(df$sessions)"
   ]
  },
  {
   "cell_type": "code",
   "execution_count": 105,
   "id": "5486e1ea",
   "metadata": {},
   "outputs": [],
   "source": [
    "df <- df %>%\n",
    "  mutate(session_pct=round(sessions/total_sessions * 100 , 2))"
   ]
  },
  {
   "cell_type": "code",
   "execution_count": 106,
   "id": "56c8f8aa",
   "metadata": {},
   "outputs": [
    {
     "data": {
      "text/html": [
       "<table class=\"dataframe\">\n",
       "<caption>A data.frame: 3 × 4</caption>\n",
       "<thead>\n",
       "\t<tr><th scope=col>test_group</th><th scope=col>pageviews</th><th scope=col>sessions</th><th scope=col>session_pct</th></tr>\n",
       "\t<tr><th scope=col>&lt;chr&gt;</th><th scope=col>&lt;int&gt;</th><th scope=col>&lt;int&gt;</th><th scope=col>&lt;dbl&gt;</th></tr>\n",
       "</thead>\n",
       "<tbody>\n",
       "\t<tr><td>control             </td><td>215</td><td>31</td><td>38.75</td></tr>\n",
       "\t<tr><td>stickyHeaderDisabled</td><td>134</td><td>23</td><td>28.75</td></tr>\n",
       "\t<tr><td>stickyHeaderEnabled </td><td>155</td><td>26</td><td>32.50</td></tr>\n",
       "</tbody>\n",
       "</table>\n"
      ],
      "text/latex": [
       "A data.frame: 3 × 4\n",
       "\\begin{tabular}{llll}\n",
       " test\\_group & pageviews & sessions & session\\_pct\\\\\n",
       " <chr> & <int> & <int> & <dbl>\\\\\n",
       "\\hline\n",
       "\t control              & 215 & 31 & 38.75\\\\\n",
       "\t stickyHeaderDisabled & 134 & 23 & 28.75\\\\\n",
       "\t stickyHeaderEnabled  & 155 & 26 & 32.50\\\\\n",
       "\\end{tabular}\n"
      ],
      "text/markdown": [
       "\n",
       "A data.frame: 3 × 4\n",
       "\n",
       "| test_group &lt;chr&gt; | pageviews &lt;int&gt; | sessions &lt;int&gt; | session_pct &lt;dbl&gt; |\n",
       "|---|---|---|---|\n",
       "| control              | 215 | 31 | 38.75 |\n",
       "| stickyHeaderDisabled | 134 | 23 | 28.75 |\n",
       "| stickyHeaderEnabled  | 155 | 26 | 32.50 |\n",
       "\n"
      ],
      "text/plain": [
       "  test_group           pageviews sessions session_pct\n",
       "1 control              215       31       38.75      \n",
       "2 stickyHeaderDisabled 134       23       28.75      \n",
       "3 stickyHeaderEnabled  155       26       32.50      "
      ]
     },
     "metadata": {},
     "output_type": "display_data"
    }
   ],
   "source": [
    "df"
   ]
  },
  {
   "cell_type": "markdown",
   "id": "ec330843",
   "metadata": {},
   "source": [
    "__Note:__ \n",
    "\n",
    "The distribution ratio of control, stickyHeaderDisabled and stickyHeaderEnabled groups is close to 1:1:1"
   ]
  },
  {
   "cell_type": "markdown",
   "id": "2959939c",
   "metadata": {},
   "source": [
    "# Check whether `mediawiki_web_ab_test_enrollment` can join with scroll events"
   ]
  },
  {
   "cell_type": "code",
   "execution_count": 83,
   "id": "9f80b664",
   "metadata": {},
   "outputs": [],
   "source": [
    "\n",
    "query <- \n",
    "\"\n",
    "WITH t1 AS (\n",
    "SELECT \n",
    " web_session_id,\n",
    " year, month, day,\n",
    " `group` AS test_group,\n",
    " min(meta.dt) AS session_dt \n",
    "FROM event.mediawiki_web_ab_test_enrollment\n",
    "WHERE wiki='testwiki' and year=2021 and month=12 and day=19\n",
    "GROUP BY  web_session_id,\n",
    " year, month, day,\n",
    " `group`\n",
    ")\n",
    "SELECT t1.test_group, t2.meta, t1.session_dt, t2.dt\n",
    "FROM t1\n",
    "LEFT JOIN event.mediawiki_web_ui_scroll AS t2 \n",
    "ON t1.year=t2.year AND t1.month=t2.month AND t1.day=t2.day \n",
    "AND t2.web_session_id = t1.web_session_id\n",
    "WHERE t1.year=2021 and t1.month=12 AND t1.day=19\n",
    "AND t2.meta.domain='test.wikipedia.org'\n",
    "LIMIT 100\n",
    "\""
   ]
  },
  {
   "cell_type": "code",
   "execution_count": 84,
   "id": "86c63bdf",
   "metadata": {},
   "outputs": [
    {
     "name": "stderr",
     "output_type": "stream",
     "text": [
      "Don't forget to authenticate with Kerberos using kinit\n",
      "\n"
     ]
    }
   ],
   "source": [
    "df <- wmfdata::query_hive(query)"
   ]
  },
  {
   "cell_type": "code",
   "execution_count": 142,
   "id": "1a886e39",
   "metadata": {},
   "outputs": [],
   "source": [
    "\n",
    "query_scrolls <- \n",
    "\"\n",
    "WITH t1 AS (\n",
    "SELECT \n",
    " web_session_id,\n",
    " year, month, day,\n",
    " `group` AS test_group,\n",
    " min(meta.dt) AS session_dt \n",
    "FROM event.mediawiki_web_ab_test_enrollment\n",
    "WHERE wiki='testwiki' and year=2021 and month=12 and day=14\n",
    "GROUP BY  web_session_id,\n",
    " year, month, day,\n",
    " `group`\n",
    ")\n",
    "SELECT t1.test_group,sum(IF (t2.meta IS NULL, 0 , 1)) AS scrolls\n",
    "FROM t1\n",
    "LEFT JOIN event.mediawiki_web_ui_scroll AS t2 \n",
    "ON t1.year=t2.year AND t1.month=t2.month AND t1.day=t2.day \n",
    "AND t2.web_session_id = t1.web_session_id\n",
    "WHERE t1.year=2021 and t1.month=12 AND t1.day=14\n",
    "AND t1.session_dt < t2.dt\n",
    "AND t2.meta.domain='test.wikipedia.org'\n",
    "GROUP BY t1.test_group\n",
    "\""
   ]
  },
  {
   "cell_type": "code",
   "execution_count": 143,
   "id": "a6a78c20",
   "metadata": {},
   "outputs": [
    {
     "name": "stderr",
     "output_type": "stream",
     "text": [
      "Don't forget to authenticate with Kerberos using kinit\n",
      "\n"
     ]
    }
   ],
   "source": [
    "df_scrolls <- wmfdata::query_hive(query_scrolls)"
   ]
  },
  {
   "cell_type": "code",
   "execution_count": 144,
   "id": "7bb9ee95",
   "metadata": {},
   "outputs": [
    {
     "data": {
      "text/html": [
       "<table class=\"dataframe\">\n",
       "<caption>A data.frame: 3 × 2</caption>\n",
       "<thead>\n",
       "\t<tr><th scope=col>test_group</th><th scope=col>scrolls</th></tr>\n",
       "\t<tr><th scope=col>&lt;chr&gt;</th><th scope=col>&lt;int&gt;</th></tr>\n",
       "</thead>\n",
       "<tbody>\n",
       "\t<tr><td>control            </td><td>17</td></tr>\n",
       "\t<tr><td>stickyHeaderEnabled</td><td>28</td></tr>\n",
       "\t<tr><td>unsampled          </td><td> 1</td></tr>\n",
       "</tbody>\n",
       "</table>\n"
      ],
      "text/latex": [
       "A data.frame: 3 × 2\n",
       "\\begin{tabular}{ll}\n",
       " test\\_group & scrolls\\\\\n",
       " <chr> & <int>\\\\\n",
       "\\hline\n",
       "\t control             & 17\\\\\n",
       "\t stickyHeaderEnabled & 28\\\\\n",
       "\t unsampled           &  1\\\\\n",
       "\\end{tabular}\n"
      ],
      "text/markdown": [
       "\n",
       "A data.frame: 3 × 2\n",
       "\n",
       "| test_group &lt;chr&gt; | scrolls &lt;int&gt; |\n",
       "|---|---|\n",
       "| control             | 17 |\n",
       "| stickyHeaderEnabled | 28 |\n",
       "| unsampled           |  1 |\n",
       "\n"
      ],
      "text/plain": [
       "  test_group          scrolls\n",
       "1 control             17     \n",
       "2 stickyHeaderEnabled 28     \n",
       "3 unsampled            1     "
      ]
     },
     "metadata": {},
     "output_type": "display_data"
    }
   ],
   "source": [
    "df_scrolls"
   ]
  },
  {
   "cell_type": "code",
   "execution_count": 148,
   "id": "493a4b1e",
   "metadata": {},
   "outputs": [],
   "source": [
    "query_scrolls <- \n",
    "\"\n",
    "WITH t1 AS (\n",
    "SELECT \n",
    " web_session_id,\n",
    " year, month, day,\n",
    " `group` AS test_group,\n",
    " min(meta.dt) AS session_dt \n",
    "FROM event.mediawiki_web_ab_test_enrollment\n",
    "WHERE wiki='testwiki' and year=2021 and month=12 and day=28\n",
    "GROUP BY  web_session_id,\n",
    " year, month, day,\n",
    " `group`\n",
    ")\n",
    "SELECT t1.test_group,sum(IF (t2.meta IS NULL, 0 , 1)) AS scrolls\n",
    "FROM t1\n",
    "LEFT JOIN event.mediawiki_web_ui_scroll AS t2 \n",
    "ON t1.year=t2.year AND t1.month=t2.month AND t1.day=t2.day \n",
    "AND t2.web_session_id = t1.web_session_id\n",
    "WHERE t1.year=2021 and t1.month=12 AND t1.day=28\n",
    "AND t1.session_dt < t2.dt\n",
    "AND t2.meta.domain='test.wikipedia.org'\n",
    "GROUP BY t1.test_group\n",
    "\""
   ]
  },
  {
   "cell_type": "code",
   "execution_count": 149,
   "id": "f1d9dc80",
   "metadata": {},
   "outputs": [
    {
     "name": "stderr",
     "output_type": "stream",
     "text": [
      "Don't forget to authenticate with Kerberos using kinit\n",
      "\n"
     ]
    }
   ],
   "source": [
    "df_scrolls <- wmfdata::query_hive(query_scrolls)"
   ]
  },
  {
   "cell_type": "code",
   "execution_count": 150,
   "id": "31d7af37",
   "metadata": {},
   "outputs": [
    {
     "data": {
      "text/html": [
       "<table class=\"dataframe\">\n",
       "<caption>A data.frame: 2 × 2</caption>\n",
       "<thead>\n",
       "\t<tr><th scope=col>test_group</th><th scope=col>scrolls</th></tr>\n",
       "\t<tr><th scope=col>&lt;chr&gt;</th><th scope=col>&lt;int&gt;</th></tr>\n",
       "</thead>\n",
       "<tbody>\n",
       "\t<tr><td>control             </td><td>36</td></tr>\n",
       "\t<tr><td>stickyHeaderDisabled</td><td> 3</td></tr>\n",
       "</tbody>\n",
       "</table>\n"
      ],
      "text/latex": [
       "A data.frame: 2 × 2\n",
       "\\begin{tabular}{ll}\n",
       " test\\_group & scrolls\\\\\n",
       " <chr> & <int>\\\\\n",
       "\\hline\n",
       "\t control              & 36\\\\\n",
       "\t stickyHeaderDisabled &  3\\\\\n",
       "\\end{tabular}\n"
      ],
      "text/markdown": [
       "\n",
       "A data.frame: 2 × 2\n",
       "\n",
       "| test_group &lt;chr&gt; | scrolls &lt;int&gt; |\n",
       "|---|---|\n",
       "| control              | 36 |\n",
       "| stickyHeaderDisabled |  3 |\n",
       "\n"
      ],
      "text/plain": [
       "  test_group           scrolls\n",
       "1 control              36     \n",
       "2 stickyHeaderDisabled  3     "
      ]
     },
     "metadata": {},
     "output_type": "display_data"
    }
   ],
   "source": [
    "df_scrolls"
   ]
  },
  {
   "cell_type": "markdown",
   "id": "f7f0c6cb",
   "metadata": {},
   "source": [
    "__Note:__\n",
    "\n",
    "We only see scroll-back event on `stickyHeaderDisabled` group, not in `stickyHeaderEnabled` group. Maybe it indicates that sticky header reduced scroll-back on 12-28-2021. We needs more data to confirm after we collect data from  AB test "
   ]
  },
  {
   "cell_type": "code",
   "execution_count": null,
   "id": "fd583ee6",
   "metadata": {},
   "outputs": [],
   "source": []
  },
  {
   "cell_type": "code",
   "execution_count": null,
   "id": "a2732cca",
   "metadata": {},
   "outputs": [],
   "source": []
  }
 ],
 "metadata": {
  "kernelspec": {
   "display_name": "R",
   "language": "R",
   "name": "ir"
  },
  "language_info": {
   "codemirror_mode": "r",
   "file_extension": ".r",
   "mimetype": "text/x-r-source",
   "name": "R",
   "pygments_lexer": "r",
   "version": "3.5.2"
  }
 },
 "nbformat": 4,
 "nbformat_minor": 5
}
