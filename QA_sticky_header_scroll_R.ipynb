{
 "cells": [
  {
   "cell_type": "markdown",
   "id": "34b57737",
   "metadata": {},
   "source": [
    "# Introduction\n",
    "\n",
    "[Instrumentation ticket](https://phabricator.wikimedia.org/T292586)   | [QA ticket](https://phabricator.wikimedia.org/T297851)"
   ]
  },
  {
   "cell_type": "markdown",
   "id": "bf850faf",
   "metadata": {},
   "source": [
    "# Instrumentation note\n",
    "\n",
    "Web team has deployed the instrumentation to track scrolling back to the top of the page.  \n",
    "The related events will be stored in `mediawiki_web_ui_scroll` schema."
   ]
  },
  {
   "cell_type": "markdown",
   "id": "3e1df2fd",
   "metadata": {},
   "source": [
    "QA on 2021-12-16"
   ]
  },
  {
   "cell_type": "code",
   "execution_count": 1,
   "id": "f96557b0",
   "metadata": {},
   "outputs": [],
   "source": [
    "shhh <- function(expr) suppressPackageStartupMessages(suppressWarnings(suppressMessages(expr)))\n",
    "shhh({\n",
    "library(tidyverse); \n",
    "library(lubridate); \n",
    "library(scales);\n",
    "library(magrittr); \n",
    "library(dplyr);\n",
    "})"
   ]
  },
  {
   "cell_type": "code",
   "execution_count": 3,
   "id": "d96c2ea4",
   "metadata": {},
   "outputs": [
    {
     "data": {
      "text/html": [
       "<script>  \n",
       "code_show=true; \n",
       "function code_toggle() {\n",
       "  if (code_show){\n",
       "    $('div.input').hide();\n",
       "  } else {\n",
       "    $('div.input').show();\n",
       "  }\n",
       "  code_show = !code_show\n",
       "}  \n",
       "$( document ).ready(code_toggle);\n",
       "</script>\n",
       "  <form action=\"javascript:code_toggle()\">\n",
       "    <input type=\"submit\" value=\"Click here to toggle on/off the raw code.\">\n",
       " </form>"
      ]
     },
     "metadata": {},
     "output_type": "display_data"
    }
   ],
   "source": [
    "library(IRdisplay)\n",
    "\n",
    "display_html(\n",
    "'<script>  \n",
    "code_show=true; \n",
    "function code_toggle() {\n",
    "  if (code_show){\n",
    "    $(\\'div.input\\').hide();\n",
    "  } else {\n",
    "    $(\\'div.input\\').show();\n",
    "  }\n",
    "  code_show = !code_show\n",
    "}  \n",
    "$( document ).ready(code_toggle);\n",
    "</script>\n",
    "  <form action=\"javascript:code_toggle()\">\n",
    "    <input type=\"submit\" value=\"Click here to toggle on/off the raw code.\">\n",
    " </form>'\n",
    ")"
   ]
  },
  {
   "cell_type": "code",
   "execution_count": 2,
   "id": "2f191b02",
   "metadata": {},
   "outputs": [],
   "source": [
    "options(repr.plot.width = 15, repr.plot.height = 10)"
   ]
  },
  {
   "cell_type": "markdown",
   "id": "83f16778",
   "metadata": {},
   "source": [
    "# Daily events"
   ]
  },
  {
   "cell_type": "code",
   "execution_count": 9,
   "id": "2b2483c0",
   "metadata": {},
   "outputs": [],
   "source": [
    "query <- \n",
    "\"\n",
    "select to_date(dt) AS date_time,substr(dt,1,10),year, month,day, COUNT(1) AS events,\n",
    "COUNT(DISTINCT web_session_id) AS sessions,\n",
    "COUNT(DISTINCT page_id) AS pages\n",
    "FROM event.mediawiki_web_ui_scroll\n",
    "WHERE year=2021\n",
    "GROUP BY to_date(dt),substr(dt,1,10),year, month,day\n",
    "\""
   ]
  },
  {
   "cell_type": "code",
   "execution_count": 10,
   "id": "4d968e7b",
   "metadata": {},
   "outputs": [
    {
     "name": "stderr",
     "output_type": "stream",
     "text": [
      "Don't forget to authenticate with Kerberos using kinit\n",
      "\n"
     ]
    }
   ],
   "source": [
    "df <-  wmfdata::query_hive(query)"
   ]
  },
  {
   "cell_type": "code",
   "execution_count": 11,
   "id": "cbbd4014",
   "metadata": {},
   "outputs": [
    {
     "data": {
      "text/html": [
       "<table class=\"dataframe\">\n",
       "<caption>A data.frame: 588 × 8</caption>\n",
       "<thead>\n",
       "\t<tr><th scope=col>date_time</th><th scope=col>X_c1</th><th scope=col>year</th><th scope=col>month</th><th scope=col>day</th><th scope=col>events</th><th scope=col>sessions</th><th scope=col>pages</th></tr>\n",
       "\t<tr><th scope=col>&lt;chr&gt;</th><th scope=col>&lt;chr&gt;</th><th scope=col>&lt;int&gt;</th><th scope=col>&lt;int&gt;</th><th scope=col>&lt;int&gt;</th><th scope=col>&lt;int&gt;</th><th scope=col>&lt;int&gt;</th><th scope=col>&lt;int&gt;</th></tr>\n",
       "</thead>\n",
       "<tbody>\n",
       "\t<tr><td>2008-12-31</td><td>2008-12-31</td><td>2021</td><td>12</td><td>13</td><td> 1</td><td>1</td><td>1</td></tr>\n",
       "\t<tr><td>2020-12-07</td><td>2020-12-07</td><td>2021</td><td>12</td><td> 7</td><td> 1</td><td>1</td><td>1</td></tr>\n",
       "\t<tr><td>2021-11-01</td><td>2021-11-01</td><td>2021</td><td>12</td><td> 7</td><td> 1</td><td>1</td><td>1</td></tr>\n",
       "\t<tr><td>2021-11-02</td><td>2021-11-02</td><td>2021</td><td>12</td><td> 5</td><td> 3</td><td>1</td><td>1</td></tr>\n",
       "\t<tr><td>2021-11-03</td><td>2021-11-03</td><td>2021</td><td>12</td><td> 3</td><td> 1</td><td>1</td><td>1</td></tr>\n",
       "\t<tr><td>2021-11-03</td><td>2021-11-03</td><td>2021</td><td>12</td><td> 6</td><td> 1</td><td>1</td><td>1</td></tr>\n",
       "\t<tr><td>2021-11-04</td><td>2021-11-04</td><td>2021</td><td>12</td><td> 7</td><td> 2</td><td>1</td><td>1</td></tr>\n",
       "\t<tr><td>2021-11-05</td><td>2021-11-05</td><td>2021</td><td>12</td><td> 5</td><td>11</td><td>2</td><td>5</td></tr>\n",
       "\t<tr><td>2021-11-06</td><td>2021-11-06</td><td>2021</td><td>12</td><td> 3</td><td> 1</td><td>1</td><td>1</td></tr>\n",
       "\t<tr><td>2021-11-06</td><td>2021-11-06</td><td>2021</td><td>12</td><td> 6</td><td> 2</td><td>2</td><td>2</td></tr>\n",
       "\t<tr><td>2021-11-07</td><td>2021-11-07</td><td>2021</td><td>12</td><td> 7</td><td> 5</td><td>5</td><td>5</td></tr>\n",
       "\t<tr><td>2021-11-08</td><td>2021-11-08</td><td>2021</td><td>12</td><td> 5</td><td> 1</td><td>1</td><td>1</td></tr>\n",
       "\t<tr><td>2021-11-08</td><td>2021-11-08</td><td>2021</td><td>12</td><td> 8</td><td>13</td><td>3</td><td>3</td></tr>\n",
       "\t<tr><td>2021-11-08</td><td>2021-11-08</td><td>2021</td><td>12</td><td>11</td><td> 4</td><td>1</td><td>2</td></tr>\n",
       "\t<tr><td>2021-11-09</td><td>2021-11-09</td><td>2021</td><td>12</td><td> 6</td><td> 1</td><td>1</td><td>1</td></tr>\n",
       "\t<tr><td>2021-11-09</td><td>2021-11-09</td><td>2021</td><td>12</td><td> 9</td><td> 1</td><td>1</td><td>1</td></tr>\n",
       "\t<tr><td>2021-11-09</td><td>2021-11-09</td><td>2021</td><td>12</td><td>12</td><td> 1</td><td>1</td><td>1</td></tr>\n",
       "\t<tr><td>2021-11-10</td><td>2021-11-10</td><td>2021</td><td>12</td><td>10</td><td> 3</td><td>3</td><td>3</td></tr>\n",
       "\t<tr><td>2021-11-11</td><td>2021-11-11</td><td>2021</td><td>12</td><td> 5</td><td> 1</td><td>1</td><td>1</td></tr>\n",
       "\t<tr><td>2021-11-12</td><td>2021-11-12</td><td>2021</td><td>12</td><td> 3</td><td> 2</td><td>2</td><td>2</td></tr>\n",
       "\t<tr><td>2021-11-12</td><td>2021-11-12</td><td>2021</td><td>12</td><td> 6</td><td> 2</td><td>1</td><td>1</td></tr>\n",
       "\t<tr><td>2021-11-12</td><td>2021-11-12</td><td>2021</td><td>12</td><td>12</td><td> 2</td><td>2</td><td>2</td></tr>\n",
       "\t<tr><td>2021-11-13</td><td>2021-11-13</td><td>2021</td><td>12</td><td> 4</td><td> 1</td><td>1</td><td>1</td></tr>\n",
       "\t<tr><td>2021-11-13</td><td>2021-11-13</td><td>2021</td><td>12</td><td> 7</td><td> 1</td><td>1</td><td>1</td></tr>\n",
       "\t<tr><td>2021-11-13</td><td>2021-11-13</td><td>2021</td><td>12</td><td>10</td><td> 1</td><td>1</td><td>1</td></tr>\n",
       "\t<tr><td>2021-11-14</td><td>2021-11-14</td><td>2021</td><td>12</td><td> 5</td><td> 5</td><td>2</td><td>4</td></tr>\n",
       "\t<tr><td>2021-11-14</td><td>2021-11-14</td><td>2021</td><td>12</td><td> 8</td><td> 5</td><td>4</td><td>5</td></tr>\n",
       "\t<tr><td>2021-11-14</td><td>2021-11-14</td><td>2021</td><td>12</td><td>11</td><td> 4</td><td>2</td><td>2</td></tr>\n",
       "\t<tr><td>2021-11-14</td><td>2021-11-14</td><td>2021</td><td>12</td><td>14</td><td> 1</td><td>1</td><td>1</td></tr>\n",
       "\t<tr><td>2021-11-15</td><td>2021-11-15</td><td>2021</td><td>12</td><td> 3</td><td> 2</td><td>2</td><td>2</td></tr>\n",
       "\t<tr><td>⋮</td><td>⋮</td><td>⋮</td><td>⋮</td><td>⋮</td><td>⋮</td><td>⋮</td><td>⋮</td></tr>\n",
       "\t<tr><td>2021-12-18</td><td>2021-12-18</td><td>2021</td><td>12</td><td>13</td><td> 1</td><td>1</td><td>1</td></tr>\n",
       "\t<tr><td>2021-12-19</td><td>2021-12-19</td><td>2021</td><td>12</td><td>11</td><td> 2</td><td>1</td><td>1</td></tr>\n",
       "\t<tr><td>2021-12-19</td><td>2021-12-19</td><td>2021</td><td>12</td><td>14</td><td> 2</td><td>1</td><td>1</td></tr>\n",
       "\t<tr><td>2021-12-20</td><td>2021-12-20</td><td>2021</td><td>12</td><td>12</td><td> 8</td><td>4</td><td>5</td></tr>\n",
       "\t<tr><td>2021-12-20</td><td>2021-12-20</td><td>2021</td><td>12</td><td>15</td><td> 8</td><td>5</td><td>5</td></tr>\n",
       "\t<tr><td>2021-12-21</td><td>2021-12-21</td><td>2021</td><td>12</td><td>10</td><td> 3</td><td>2</td><td>2</td></tr>\n",
       "\t<tr><td>2021-12-21</td><td>2021-12-21</td><td>2021</td><td>12</td><td>13</td><td> 1</td><td>1</td><td>1</td></tr>\n",
       "\t<tr><td>2021-12-22</td><td>2021-12-22</td><td>2021</td><td>12</td><td>11</td><td> 1</td><td>1</td><td>1</td></tr>\n",
       "\t<tr><td>2021-12-22</td><td>2021-12-22</td><td>2021</td><td>12</td><td>14</td><td> 6</td><td>2</td><td>2</td></tr>\n",
       "\t<tr><td>2021-12-23</td><td>2021-12-23</td><td>2021</td><td>12</td><td> 9</td><td> 5</td><td>1</td><td>1</td></tr>\n",
       "\t<tr><td>2021-12-23</td><td>2021-12-23</td><td>2021</td><td>12</td><td>15</td><td> 6</td><td>2</td><td>2</td></tr>\n",
       "\t<tr><td>2021-12-26</td><td>2021-12-26</td><td>2021</td><td>12</td><td> 6</td><td> 1</td><td>1</td><td>1</td></tr>\n",
       "\t<tr><td>2021-12-26</td><td>2021-12-26</td><td>2021</td><td>12</td><td> 9</td><td> 4</td><td>2</td><td>2</td></tr>\n",
       "\t<tr><td>2021-12-26</td><td>2021-12-26</td><td>2021</td><td>12</td><td>12</td><td> 3</td><td>2</td><td>2</td></tr>\n",
       "\t<tr><td>2021-12-26</td><td>2021-12-26</td><td>2021</td><td>12</td><td>15</td><td> 2</td><td>2</td><td>2</td></tr>\n",
       "\t<tr><td>2021-12-31</td><td>2021-12-31</td><td>2021</td><td>12</td><td> 8</td><td> 1</td><td>1</td><td>1</td></tr>\n",
       "\t<tr><td>2021-12-31</td><td>2021-12-31</td><td>2021</td><td>12</td><td>11</td><td>11</td><td>1</td><td>1</td></tr>\n",
       "\t<tr><td>2022-01-01</td><td>2022-01-01</td><td>2021</td><td>12</td><td>10</td><td> 2</td><td>1</td><td>1</td></tr>\n",
       "\t<tr><td>2022-01-02</td><td>2022-01-02</td><td>2021</td><td>12</td><td>14</td><td> 1</td><td>1</td><td>1</td></tr>\n",
       "\t<tr><td>2022-01-04</td><td>2022-01-04</td><td>2021</td><td>12</td><td> 4</td><td> 5</td><td>2</td><td>2</td></tr>\n",
       "\t<tr><td>2022-01-05</td><td>2022-01-05</td><td>2021</td><td>12</td><td> 5</td><td> 1</td><td>1</td><td>1</td></tr>\n",
       "\t<tr><td>2022-01-05</td><td>2022-01-05</td><td>2021</td><td>12</td><td>14</td><td> 2</td><td>1</td><td>2</td></tr>\n",
       "\t<tr><td>2022-01-06</td><td>2022-01-06</td><td>2021</td><td>12</td><td>12</td><td> 1</td><td>1</td><td>1</td></tr>\n",
       "\t<tr><td>2022-01-06</td><td>2022-01-06</td><td>2021</td><td>12</td><td>15</td><td> 1</td><td>1</td><td>1</td></tr>\n",
       "\t<tr><td>2022-01-09</td><td>2022-01-09</td><td>2021</td><td>12</td><td> 9</td><td> 1</td><td>1</td><td>1</td></tr>\n",
       "\t<tr><td>2022-01-10</td><td>2022-01-10</td><td>2021</td><td>12</td><td> 4</td><td> 1</td><td>1</td><td>1</td></tr>\n",
       "\t<tr><td>2022-01-12</td><td>2022-01-12</td><td>2021</td><td>12</td><td>12</td><td> 2</td><td>1</td><td>2</td></tr>\n",
       "\t<tr><td>2022-01-13</td><td>2022-01-13</td><td>2021</td><td>12</td><td>13</td><td> 1</td><td>1</td><td>1</td></tr>\n",
       "\t<tr><td>2022-01-21</td><td>2022-01-21</td><td>2021</td><td>12</td><td>15</td><td> 3</td><td>1</td><td>2</td></tr>\n",
       "\t<tr><td>2022-01-22</td><td>2022-01-22</td><td>2021</td><td>12</td><td>13</td><td> 1</td><td>1</td><td>1</td></tr>\n",
       "</tbody>\n",
       "</table>\n"
      ],
      "text/latex": [
       "A data.frame: 588 × 8\n",
       "\\begin{tabular}{llllllll}\n",
       " date\\_time & X\\_c1 & year & month & day & events & sessions & pages\\\\\n",
       " <chr> & <chr> & <int> & <int> & <int> & <int> & <int> & <int>\\\\\n",
       "\\hline\n",
       "\t 2008-12-31 & 2008-12-31 & 2021 & 12 & 13 &  1 & 1 & 1\\\\\n",
       "\t 2020-12-07 & 2020-12-07 & 2021 & 12 &  7 &  1 & 1 & 1\\\\\n",
       "\t 2021-11-01 & 2021-11-01 & 2021 & 12 &  7 &  1 & 1 & 1\\\\\n",
       "\t 2021-11-02 & 2021-11-02 & 2021 & 12 &  5 &  3 & 1 & 1\\\\\n",
       "\t 2021-11-03 & 2021-11-03 & 2021 & 12 &  3 &  1 & 1 & 1\\\\\n",
       "\t 2021-11-03 & 2021-11-03 & 2021 & 12 &  6 &  1 & 1 & 1\\\\\n",
       "\t 2021-11-04 & 2021-11-04 & 2021 & 12 &  7 &  2 & 1 & 1\\\\\n",
       "\t 2021-11-05 & 2021-11-05 & 2021 & 12 &  5 & 11 & 2 & 5\\\\\n",
       "\t 2021-11-06 & 2021-11-06 & 2021 & 12 &  3 &  1 & 1 & 1\\\\\n",
       "\t 2021-11-06 & 2021-11-06 & 2021 & 12 &  6 &  2 & 2 & 2\\\\\n",
       "\t 2021-11-07 & 2021-11-07 & 2021 & 12 &  7 &  5 & 5 & 5\\\\\n",
       "\t 2021-11-08 & 2021-11-08 & 2021 & 12 &  5 &  1 & 1 & 1\\\\\n",
       "\t 2021-11-08 & 2021-11-08 & 2021 & 12 &  8 & 13 & 3 & 3\\\\\n",
       "\t 2021-11-08 & 2021-11-08 & 2021 & 12 & 11 &  4 & 1 & 2\\\\\n",
       "\t 2021-11-09 & 2021-11-09 & 2021 & 12 &  6 &  1 & 1 & 1\\\\\n",
       "\t 2021-11-09 & 2021-11-09 & 2021 & 12 &  9 &  1 & 1 & 1\\\\\n",
       "\t 2021-11-09 & 2021-11-09 & 2021 & 12 & 12 &  1 & 1 & 1\\\\\n",
       "\t 2021-11-10 & 2021-11-10 & 2021 & 12 & 10 &  3 & 3 & 3\\\\\n",
       "\t 2021-11-11 & 2021-11-11 & 2021 & 12 &  5 &  1 & 1 & 1\\\\\n",
       "\t 2021-11-12 & 2021-11-12 & 2021 & 12 &  3 &  2 & 2 & 2\\\\\n",
       "\t 2021-11-12 & 2021-11-12 & 2021 & 12 &  6 &  2 & 1 & 1\\\\\n",
       "\t 2021-11-12 & 2021-11-12 & 2021 & 12 & 12 &  2 & 2 & 2\\\\\n",
       "\t 2021-11-13 & 2021-11-13 & 2021 & 12 &  4 &  1 & 1 & 1\\\\\n",
       "\t 2021-11-13 & 2021-11-13 & 2021 & 12 &  7 &  1 & 1 & 1\\\\\n",
       "\t 2021-11-13 & 2021-11-13 & 2021 & 12 & 10 &  1 & 1 & 1\\\\\n",
       "\t 2021-11-14 & 2021-11-14 & 2021 & 12 &  5 &  5 & 2 & 4\\\\\n",
       "\t 2021-11-14 & 2021-11-14 & 2021 & 12 &  8 &  5 & 4 & 5\\\\\n",
       "\t 2021-11-14 & 2021-11-14 & 2021 & 12 & 11 &  4 & 2 & 2\\\\\n",
       "\t 2021-11-14 & 2021-11-14 & 2021 & 12 & 14 &  1 & 1 & 1\\\\\n",
       "\t 2021-11-15 & 2021-11-15 & 2021 & 12 &  3 &  2 & 2 & 2\\\\\n",
       "\t ⋮ & ⋮ & ⋮ & ⋮ & ⋮ & ⋮ & ⋮ & ⋮\\\\\n",
       "\t 2021-12-18 & 2021-12-18 & 2021 & 12 & 13 &  1 & 1 & 1\\\\\n",
       "\t 2021-12-19 & 2021-12-19 & 2021 & 12 & 11 &  2 & 1 & 1\\\\\n",
       "\t 2021-12-19 & 2021-12-19 & 2021 & 12 & 14 &  2 & 1 & 1\\\\\n",
       "\t 2021-12-20 & 2021-12-20 & 2021 & 12 & 12 &  8 & 4 & 5\\\\\n",
       "\t 2021-12-20 & 2021-12-20 & 2021 & 12 & 15 &  8 & 5 & 5\\\\\n",
       "\t 2021-12-21 & 2021-12-21 & 2021 & 12 & 10 &  3 & 2 & 2\\\\\n",
       "\t 2021-12-21 & 2021-12-21 & 2021 & 12 & 13 &  1 & 1 & 1\\\\\n",
       "\t 2021-12-22 & 2021-12-22 & 2021 & 12 & 11 &  1 & 1 & 1\\\\\n",
       "\t 2021-12-22 & 2021-12-22 & 2021 & 12 & 14 &  6 & 2 & 2\\\\\n",
       "\t 2021-12-23 & 2021-12-23 & 2021 & 12 &  9 &  5 & 1 & 1\\\\\n",
       "\t 2021-12-23 & 2021-12-23 & 2021 & 12 & 15 &  6 & 2 & 2\\\\\n",
       "\t 2021-12-26 & 2021-12-26 & 2021 & 12 &  6 &  1 & 1 & 1\\\\\n",
       "\t 2021-12-26 & 2021-12-26 & 2021 & 12 &  9 &  4 & 2 & 2\\\\\n",
       "\t 2021-12-26 & 2021-12-26 & 2021 & 12 & 12 &  3 & 2 & 2\\\\\n",
       "\t 2021-12-26 & 2021-12-26 & 2021 & 12 & 15 &  2 & 2 & 2\\\\\n",
       "\t 2021-12-31 & 2021-12-31 & 2021 & 12 &  8 &  1 & 1 & 1\\\\\n",
       "\t 2021-12-31 & 2021-12-31 & 2021 & 12 & 11 & 11 & 1 & 1\\\\\n",
       "\t 2022-01-01 & 2022-01-01 & 2021 & 12 & 10 &  2 & 1 & 1\\\\\n",
       "\t 2022-01-02 & 2022-01-02 & 2021 & 12 & 14 &  1 & 1 & 1\\\\\n",
       "\t 2022-01-04 & 2022-01-04 & 2021 & 12 &  4 &  5 & 2 & 2\\\\\n",
       "\t 2022-01-05 & 2022-01-05 & 2021 & 12 &  5 &  1 & 1 & 1\\\\\n",
       "\t 2022-01-05 & 2022-01-05 & 2021 & 12 & 14 &  2 & 1 & 2\\\\\n",
       "\t 2022-01-06 & 2022-01-06 & 2021 & 12 & 12 &  1 & 1 & 1\\\\\n",
       "\t 2022-01-06 & 2022-01-06 & 2021 & 12 & 15 &  1 & 1 & 1\\\\\n",
       "\t 2022-01-09 & 2022-01-09 & 2021 & 12 &  9 &  1 & 1 & 1\\\\\n",
       "\t 2022-01-10 & 2022-01-10 & 2021 & 12 &  4 &  1 & 1 & 1\\\\\n",
       "\t 2022-01-12 & 2022-01-12 & 2021 & 12 & 12 &  2 & 1 & 2\\\\\n",
       "\t 2022-01-13 & 2022-01-13 & 2021 & 12 & 13 &  1 & 1 & 1\\\\\n",
       "\t 2022-01-21 & 2022-01-21 & 2021 & 12 & 15 &  3 & 1 & 2\\\\\n",
       "\t 2022-01-22 & 2022-01-22 & 2021 & 12 & 13 &  1 & 1 & 1\\\\\n",
       "\\end{tabular}\n"
      ],
      "text/markdown": [
       "\n",
       "A data.frame: 588 × 8\n",
       "\n",
       "| date_time &lt;chr&gt; | X_c1 &lt;chr&gt; | year &lt;int&gt; | month &lt;int&gt; | day &lt;int&gt; | events &lt;int&gt; | sessions &lt;int&gt; | pages &lt;int&gt; |\n",
       "|---|---|---|---|---|---|---|---|\n",
       "| 2008-12-31 | 2008-12-31 | 2021 | 12 | 13 |  1 | 1 | 1 |\n",
       "| 2020-12-07 | 2020-12-07 | 2021 | 12 |  7 |  1 | 1 | 1 |\n",
       "| 2021-11-01 | 2021-11-01 | 2021 | 12 |  7 |  1 | 1 | 1 |\n",
       "| 2021-11-02 | 2021-11-02 | 2021 | 12 |  5 |  3 | 1 | 1 |\n",
       "| 2021-11-03 | 2021-11-03 | 2021 | 12 |  3 |  1 | 1 | 1 |\n",
       "| 2021-11-03 | 2021-11-03 | 2021 | 12 |  6 |  1 | 1 | 1 |\n",
       "| 2021-11-04 | 2021-11-04 | 2021 | 12 |  7 |  2 | 1 | 1 |\n",
       "| 2021-11-05 | 2021-11-05 | 2021 | 12 |  5 | 11 | 2 | 5 |\n",
       "| 2021-11-06 | 2021-11-06 | 2021 | 12 |  3 |  1 | 1 | 1 |\n",
       "| 2021-11-06 | 2021-11-06 | 2021 | 12 |  6 |  2 | 2 | 2 |\n",
       "| 2021-11-07 | 2021-11-07 | 2021 | 12 |  7 |  5 | 5 | 5 |\n",
       "| 2021-11-08 | 2021-11-08 | 2021 | 12 |  5 |  1 | 1 | 1 |\n",
       "| 2021-11-08 | 2021-11-08 | 2021 | 12 |  8 | 13 | 3 | 3 |\n",
       "| 2021-11-08 | 2021-11-08 | 2021 | 12 | 11 |  4 | 1 | 2 |\n",
       "| 2021-11-09 | 2021-11-09 | 2021 | 12 |  6 |  1 | 1 | 1 |\n",
       "| 2021-11-09 | 2021-11-09 | 2021 | 12 |  9 |  1 | 1 | 1 |\n",
       "| 2021-11-09 | 2021-11-09 | 2021 | 12 | 12 |  1 | 1 | 1 |\n",
       "| 2021-11-10 | 2021-11-10 | 2021 | 12 | 10 |  3 | 3 | 3 |\n",
       "| 2021-11-11 | 2021-11-11 | 2021 | 12 |  5 |  1 | 1 | 1 |\n",
       "| 2021-11-12 | 2021-11-12 | 2021 | 12 |  3 |  2 | 2 | 2 |\n",
       "| 2021-11-12 | 2021-11-12 | 2021 | 12 |  6 |  2 | 1 | 1 |\n",
       "| 2021-11-12 | 2021-11-12 | 2021 | 12 | 12 |  2 | 2 | 2 |\n",
       "| 2021-11-13 | 2021-11-13 | 2021 | 12 |  4 |  1 | 1 | 1 |\n",
       "| 2021-11-13 | 2021-11-13 | 2021 | 12 |  7 |  1 | 1 | 1 |\n",
       "| 2021-11-13 | 2021-11-13 | 2021 | 12 | 10 |  1 | 1 | 1 |\n",
       "| 2021-11-14 | 2021-11-14 | 2021 | 12 |  5 |  5 | 2 | 4 |\n",
       "| 2021-11-14 | 2021-11-14 | 2021 | 12 |  8 |  5 | 4 | 5 |\n",
       "| 2021-11-14 | 2021-11-14 | 2021 | 12 | 11 |  4 | 2 | 2 |\n",
       "| 2021-11-14 | 2021-11-14 | 2021 | 12 | 14 |  1 | 1 | 1 |\n",
       "| 2021-11-15 | 2021-11-15 | 2021 | 12 |  3 |  2 | 2 | 2 |\n",
       "| ⋮ | ⋮ | ⋮ | ⋮ | ⋮ | ⋮ | ⋮ | ⋮ |\n",
       "| 2021-12-18 | 2021-12-18 | 2021 | 12 | 13 |  1 | 1 | 1 |\n",
       "| 2021-12-19 | 2021-12-19 | 2021 | 12 | 11 |  2 | 1 | 1 |\n",
       "| 2021-12-19 | 2021-12-19 | 2021 | 12 | 14 |  2 | 1 | 1 |\n",
       "| 2021-12-20 | 2021-12-20 | 2021 | 12 | 12 |  8 | 4 | 5 |\n",
       "| 2021-12-20 | 2021-12-20 | 2021 | 12 | 15 |  8 | 5 | 5 |\n",
       "| 2021-12-21 | 2021-12-21 | 2021 | 12 | 10 |  3 | 2 | 2 |\n",
       "| 2021-12-21 | 2021-12-21 | 2021 | 12 | 13 |  1 | 1 | 1 |\n",
       "| 2021-12-22 | 2021-12-22 | 2021 | 12 | 11 |  1 | 1 | 1 |\n",
       "| 2021-12-22 | 2021-12-22 | 2021 | 12 | 14 |  6 | 2 | 2 |\n",
       "| 2021-12-23 | 2021-12-23 | 2021 | 12 |  9 |  5 | 1 | 1 |\n",
       "| 2021-12-23 | 2021-12-23 | 2021 | 12 | 15 |  6 | 2 | 2 |\n",
       "| 2021-12-26 | 2021-12-26 | 2021 | 12 |  6 |  1 | 1 | 1 |\n",
       "| 2021-12-26 | 2021-12-26 | 2021 | 12 |  9 |  4 | 2 | 2 |\n",
       "| 2021-12-26 | 2021-12-26 | 2021 | 12 | 12 |  3 | 2 | 2 |\n",
       "| 2021-12-26 | 2021-12-26 | 2021 | 12 | 15 |  2 | 2 | 2 |\n",
       "| 2021-12-31 | 2021-12-31 | 2021 | 12 |  8 |  1 | 1 | 1 |\n",
       "| 2021-12-31 | 2021-12-31 | 2021 | 12 | 11 | 11 | 1 | 1 |\n",
       "| 2022-01-01 | 2022-01-01 | 2021 | 12 | 10 |  2 | 1 | 1 |\n",
       "| 2022-01-02 | 2022-01-02 | 2021 | 12 | 14 |  1 | 1 | 1 |\n",
       "| 2022-01-04 | 2022-01-04 | 2021 | 12 |  4 |  5 | 2 | 2 |\n",
       "| 2022-01-05 | 2022-01-05 | 2021 | 12 |  5 |  1 | 1 | 1 |\n",
       "| 2022-01-05 | 2022-01-05 | 2021 | 12 | 14 |  2 | 1 | 2 |\n",
       "| 2022-01-06 | 2022-01-06 | 2021 | 12 | 12 |  1 | 1 | 1 |\n",
       "| 2022-01-06 | 2022-01-06 | 2021 | 12 | 15 |  1 | 1 | 1 |\n",
       "| 2022-01-09 | 2022-01-09 | 2021 | 12 |  9 |  1 | 1 | 1 |\n",
       "| 2022-01-10 | 2022-01-10 | 2021 | 12 |  4 |  1 | 1 | 1 |\n",
       "| 2022-01-12 | 2022-01-12 | 2021 | 12 | 12 |  2 | 1 | 2 |\n",
       "| 2022-01-13 | 2022-01-13 | 2021 | 12 | 13 |  1 | 1 | 1 |\n",
       "| 2022-01-21 | 2022-01-21 | 2021 | 12 | 15 |  3 | 1 | 2 |\n",
       "| 2022-01-22 | 2022-01-22 | 2021 | 12 | 13 |  1 | 1 | 1 |\n",
       "\n"
      ],
      "text/plain": [
       "    date_time  X_c1       year month day events sessions pages\n",
       "1   2008-12-31 2008-12-31 2021 12    13   1     1        1    \n",
       "2   2020-12-07 2020-12-07 2021 12     7   1     1        1    \n",
       "3   2021-11-01 2021-11-01 2021 12     7   1     1        1    \n",
       "4   2021-11-02 2021-11-02 2021 12     5   3     1        1    \n",
       "5   2021-11-03 2021-11-03 2021 12     3   1     1        1    \n",
       "6   2021-11-03 2021-11-03 2021 12     6   1     1        1    \n",
       "7   2021-11-04 2021-11-04 2021 12     7   2     1        1    \n",
       "8   2021-11-05 2021-11-05 2021 12     5  11     2        5    \n",
       "9   2021-11-06 2021-11-06 2021 12     3   1     1        1    \n",
       "10  2021-11-06 2021-11-06 2021 12     6   2     2        2    \n",
       "11  2021-11-07 2021-11-07 2021 12     7   5     5        5    \n",
       "12  2021-11-08 2021-11-08 2021 12     5   1     1        1    \n",
       "13  2021-11-08 2021-11-08 2021 12     8  13     3        3    \n",
       "14  2021-11-08 2021-11-08 2021 12    11   4     1        2    \n",
       "15  2021-11-09 2021-11-09 2021 12     6   1     1        1    \n",
       "16  2021-11-09 2021-11-09 2021 12     9   1     1        1    \n",
       "17  2021-11-09 2021-11-09 2021 12    12   1     1        1    \n",
       "18  2021-11-10 2021-11-10 2021 12    10   3     3        3    \n",
       "19  2021-11-11 2021-11-11 2021 12     5   1     1        1    \n",
       "20  2021-11-12 2021-11-12 2021 12     3   2     2        2    \n",
       "21  2021-11-12 2021-11-12 2021 12     6   2     1        1    \n",
       "22  2021-11-12 2021-11-12 2021 12    12   2     2        2    \n",
       "23  2021-11-13 2021-11-13 2021 12     4   1     1        1    \n",
       "24  2021-11-13 2021-11-13 2021 12     7   1     1        1    \n",
       "25  2021-11-13 2021-11-13 2021 12    10   1     1        1    \n",
       "26  2021-11-14 2021-11-14 2021 12     5   5     2        4    \n",
       "27  2021-11-14 2021-11-14 2021 12     8   5     4        5    \n",
       "28  2021-11-14 2021-11-14 2021 12    11   4     2        2    \n",
       "29  2021-11-14 2021-11-14 2021 12    14   1     1        1    \n",
       "30  2021-11-15 2021-11-15 2021 12     3   2     2        2    \n",
       "⋮   ⋮          ⋮          ⋮    ⋮     ⋮   ⋮      ⋮        ⋮    \n",
       "559 2021-12-18 2021-12-18 2021 12    13   1     1        1    \n",
       "560 2021-12-19 2021-12-19 2021 12    11   2     1        1    \n",
       "561 2021-12-19 2021-12-19 2021 12    14   2     1        1    \n",
       "562 2021-12-20 2021-12-20 2021 12    12   8     4        5    \n",
       "563 2021-12-20 2021-12-20 2021 12    15   8     5        5    \n",
       "564 2021-12-21 2021-12-21 2021 12    10   3     2        2    \n",
       "565 2021-12-21 2021-12-21 2021 12    13   1     1        1    \n",
       "566 2021-12-22 2021-12-22 2021 12    11   1     1        1    \n",
       "567 2021-12-22 2021-12-22 2021 12    14   6     2        2    \n",
       "568 2021-12-23 2021-12-23 2021 12     9   5     1        1    \n",
       "569 2021-12-23 2021-12-23 2021 12    15   6     2        2    \n",
       "570 2021-12-26 2021-12-26 2021 12     6   1     1        1    \n",
       "571 2021-12-26 2021-12-26 2021 12     9   4     2        2    \n",
       "572 2021-12-26 2021-12-26 2021 12    12   3     2        2    \n",
       "573 2021-12-26 2021-12-26 2021 12    15   2     2        2    \n",
       "574 2021-12-31 2021-12-31 2021 12     8   1     1        1    \n",
       "575 2021-12-31 2021-12-31 2021 12    11  11     1        1    \n",
       "576 2022-01-01 2022-01-01 2021 12    10   2     1        1    \n",
       "577 2022-01-02 2022-01-02 2021 12    14   1     1        1    \n",
       "578 2022-01-04 2022-01-04 2021 12     4   5     2        2    \n",
       "579 2022-01-05 2022-01-05 2021 12     5   1     1        1    \n",
       "580 2022-01-05 2022-01-05 2021 12    14   2     1        2    \n",
       "581 2022-01-06 2022-01-06 2021 12    12   1     1        1    \n",
       "582 2022-01-06 2022-01-06 2021 12    15   1     1        1    \n",
       "583 2022-01-09 2022-01-09 2021 12     9   1     1        1    \n",
       "584 2022-01-10 2022-01-10 2021 12     4   1     1        1    \n",
       "585 2022-01-12 2022-01-12 2021 12    12   2     1        2    \n",
       "586 2022-01-13 2022-01-13 2021 12    13   1     1        1    \n",
       "587 2022-01-21 2022-01-21 2021 12    15   3     1        2    \n",
       "588 2022-01-22 2022-01-22 2021 12    13   1     1        1    "
      ]
     },
     "metadata": {},
     "output_type": "display_data"
    }
   ],
   "source": [
    "df"
   ]
  },
  {
   "cell_type": "markdown",
   "id": "9c36088a",
   "metadata": {},
   "source": [
    "__Note:__  \n",
    "\n",
    "\n",
    "It seems that the data in dt field is not right. It records some dates in 2008 when this schema is not enabled. It also records many dates in 2022, which is the future. It doesn't match with the partition year, month day.\n",
    "This data issue shows for all wikis not just on particular one wiki.\n",
    "\n",
    "__Reason:__\n",
    "\n",
    "In modern eventloggin platform `dt` has switched to meaning the time according to the client. So if someone, say, has the time on their phone set to 2008 or 2022, dt would reflect that. On the other hand, `meta.dt` (which is used to set the partition fields) is the time our server received the event, which would still be 2021. [ticket](https://phabricator.wikimedia.org/T292586#7581979)\n"
   ]
  },
  {
   "cell_type": "markdown",
   "id": "6dfd719e",
   "metadata": {},
   "source": [
    "Work-around: query data using partitions or `meta.dt` instead of `dt` field"
   ]
  },
  {
   "cell_type": "code",
   "execution_count": 28,
   "id": "3417b5fc",
   "metadata": {},
   "outputs": [],
   "source": [
    "query <- \n",
    "\"\n",
    "select to_date(meta.dt) AS date_time,year, month,day, COUNT(1) AS events,\n",
    "COUNT(DISTINCT web_session_id) AS sessions,\n",
    "COUNT(DISTINCT page_id) AS pages\n",
    "FROM event.mediawiki_web_ui_scroll\n",
    "WHERE year=2021\n",
    "GROUP BY to_date(meta.dt),year, month,day\n",
    "\""
   ]
  },
  {
   "cell_type": "code",
   "execution_count": 29,
   "id": "e1695db6",
   "metadata": {},
   "outputs": [
    {
     "name": "stderr",
     "output_type": "stream",
     "text": [
      "Don't forget to authenticate with Kerberos using kinit\n",
      "\n"
     ]
    }
   ],
   "source": [
    "df <-  wmfdata::query_hive(query)"
   ]
  },
  {
   "cell_type": "code",
   "execution_count": 30,
   "id": "d77f10d8",
   "metadata": {},
   "outputs": [
    {
     "data": {
      "text/html": [
       "<table class=\"dataframe\">\n",
       "<caption>A data.frame: 19 × 7</caption>\n",
       "<thead>\n",
       "\t<tr><th scope=col>date_time</th><th scope=col>year</th><th scope=col>month</th><th scope=col>day</th><th scope=col>events</th><th scope=col>sessions</th><th scope=col>pages</th></tr>\n",
       "\t<tr><th scope=col>&lt;chr&gt;</th><th scope=col>&lt;int&gt;</th><th scope=col>&lt;int&gt;</th><th scope=col>&lt;int&gt;</th><th scope=col>&lt;int&gt;</th><th scope=col>&lt;int&gt;</th><th scope=col>&lt;int&gt;</th></tr>\n",
       "</thead>\n",
       "<tbody>\n",
       "\t<tr><td>2021-12-02</td><td>2021</td><td>12</td><td> 2</td><td> 81487</td><td> 48361</td><td> 46558</td></tr>\n",
       "\t<tr><td>2021-12-04</td><td>2021</td><td>12</td><td> 4</td><td>357090</td><td>197734</td><td>162809</td></tr>\n",
       "\t<tr><td>2021-12-06</td><td>2021</td><td>12</td><td> 6</td><td>472058</td><td>275630</td><td>201335</td></tr>\n",
       "\t<tr><td>2021-12-08</td><td>2021</td><td>12</td><td> 8</td><td>456801</td><td>265741</td><td>196529</td></tr>\n",
       "\t<tr><td>2021-12-10</td><td>2021</td><td>12</td><td>10</td><td>401310</td><td>230381</td><td>177447</td></tr>\n",
       "\t<tr><td>2021-12-12</td><td>2021</td><td>12</td><td>12</td><td>403471</td><td>224700</td><td>175329</td></tr>\n",
       "\t<tr><td>2021-12-14</td><td>2021</td><td>12</td><td>14</td><td>453431</td><td>263440</td><td>195867</td></tr>\n",
       "\t<tr><td>2021-12-16</td><td>2021</td><td>12</td><td>16</td><td>407185</td><td>235108</td><td>179875</td></tr>\n",
       "\t<tr><td>2021-12-18</td><td>2021</td><td>12</td><td>18</td><td>308216</td><td>168579</td><td>145481</td></tr>\n",
       "\t<tr><td>2021-12-20</td><td>2021</td><td>12</td><td>20</td><td>386747</td><td>221645</td><td>174713</td></tr>\n",
       "\t<tr><td>2021-12-03</td><td>2021</td><td>12</td><td> 3</td><td>393934</td><td>226594</td><td>176208</td></tr>\n",
       "\t<tr><td>2021-12-05</td><td>2021</td><td>12</td><td> 5</td><td>408748</td><td>227258</td><td>178257</td></tr>\n",
       "\t<tr><td>2021-12-07</td><td>2021</td><td>12</td><td> 7</td><td>460858</td><td>269573</td><td>199129</td></tr>\n",
       "\t<tr><td>2021-12-09</td><td>2021</td><td>12</td><td> 9</td><td>443695</td><td>256186</td><td>191410</td></tr>\n",
       "\t<tr><td>2021-12-11</td><td>2021</td><td>12</td><td>11</td><td>351576</td><td>193273</td><td>161181</td></tr>\n",
       "\t<tr><td>2021-12-13</td><td>2021</td><td>12</td><td>13</td><td>470226</td><td>274211</td><td>199684</td></tr>\n",
       "\t<tr><td>2021-12-15</td><td>2021</td><td>12</td><td>15</td><td>432189</td><td>251205</td><td>189841</td></tr>\n",
       "\t<tr><td>2021-12-17</td><td>2021</td><td>12</td><td>17</td><td>360023</td><td>205032</td><td>163414</td></tr>\n",
       "\t<tr><td>2021-12-19</td><td>2021</td><td>12</td><td>19</td><td>347184</td><td>190192</td><td>158485</td></tr>\n",
       "</tbody>\n",
       "</table>\n"
      ],
      "text/latex": [
       "A data.frame: 19 × 7\n",
       "\\begin{tabular}{lllllll}\n",
       " date\\_time & year & month & day & events & sessions & pages\\\\\n",
       " <chr> & <int> & <int> & <int> & <int> & <int> & <int>\\\\\n",
       "\\hline\n",
       "\t 2021-12-02 & 2021 & 12 &  2 &  81487 &  48361 &  46558\\\\\n",
       "\t 2021-12-04 & 2021 & 12 &  4 & 357090 & 197734 & 162809\\\\\n",
       "\t 2021-12-06 & 2021 & 12 &  6 & 472058 & 275630 & 201335\\\\\n",
       "\t 2021-12-08 & 2021 & 12 &  8 & 456801 & 265741 & 196529\\\\\n",
       "\t 2021-12-10 & 2021 & 12 & 10 & 401310 & 230381 & 177447\\\\\n",
       "\t 2021-12-12 & 2021 & 12 & 12 & 403471 & 224700 & 175329\\\\\n",
       "\t 2021-12-14 & 2021 & 12 & 14 & 453431 & 263440 & 195867\\\\\n",
       "\t 2021-12-16 & 2021 & 12 & 16 & 407185 & 235108 & 179875\\\\\n",
       "\t 2021-12-18 & 2021 & 12 & 18 & 308216 & 168579 & 145481\\\\\n",
       "\t 2021-12-20 & 2021 & 12 & 20 & 386747 & 221645 & 174713\\\\\n",
       "\t 2021-12-03 & 2021 & 12 &  3 & 393934 & 226594 & 176208\\\\\n",
       "\t 2021-12-05 & 2021 & 12 &  5 & 408748 & 227258 & 178257\\\\\n",
       "\t 2021-12-07 & 2021 & 12 &  7 & 460858 & 269573 & 199129\\\\\n",
       "\t 2021-12-09 & 2021 & 12 &  9 & 443695 & 256186 & 191410\\\\\n",
       "\t 2021-12-11 & 2021 & 12 & 11 & 351576 & 193273 & 161181\\\\\n",
       "\t 2021-12-13 & 2021 & 12 & 13 & 470226 & 274211 & 199684\\\\\n",
       "\t 2021-12-15 & 2021 & 12 & 15 & 432189 & 251205 & 189841\\\\\n",
       "\t 2021-12-17 & 2021 & 12 & 17 & 360023 & 205032 & 163414\\\\\n",
       "\t 2021-12-19 & 2021 & 12 & 19 & 347184 & 190192 & 158485\\\\\n",
       "\\end{tabular}\n"
      ],
      "text/markdown": [
       "\n",
       "A data.frame: 19 × 7\n",
       "\n",
       "| date_time &lt;chr&gt; | year &lt;int&gt; | month &lt;int&gt; | day &lt;int&gt; | events &lt;int&gt; | sessions &lt;int&gt; | pages &lt;int&gt; |\n",
       "|---|---|---|---|---|---|---|\n",
       "| 2021-12-02 | 2021 | 12 |  2 |  81487 |  48361 |  46558 |\n",
       "| 2021-12-04 | 2021 | 12 |  4 | 357090 | 197734 | 162809 |\n",
       "| 2021-12-06 | 2021 | 12 |  6 | 472058 | 275630 | 201335 |\n",
       "| 2021-12-08 | 2021 | 12 |  8 | 456801 | 265741 | 196529 |\n",
       "| 2021-12-10 | 2021 | 12 | 10 | 401310 | 230381 | 177447 |\n",
       "| 2021-12-12 | 2021 | 12 | 12 | 403471 | 224700 | 175329 |\n",
       "| 2021-12-14 | 2021 | 12 | 14 | 453431 | 263440 | 195867 |\n",
       "| 2021-12-16 | 2021 | 12 | 16 | 407185 | 235108 | 179875 |\n",
       "| 2021-12-18 | 2021 | 12 | 18 | 308216 | 168579 | 145481 |\n",
       "| 2021-12-20 | 2021 | 12 | 20 | 386747 | 221645 | 174713 |\n",
       "| 2021-12-03 | 2021 | 12 |  3 | 393934 | 226594 | 176208 |\n",
       "| 2021-12-05 | 2021 | 12 |  5 | 408748 | 227258 | 178257 |\n",
       "| 2021-12-07 | 2021 | 12 |  7 | 460858 | 269573 | 199129 |\n",
       "| 2021-12-09 | 2021 | 12 |  9 | 443695 | 256186 | 191410 |\n",
       "| 2021-12-11 | 2021 | 12 | 11 | 351576 | 193273 | 161181 |\n",
       "| 2021-12-13 | 2021 | 12 | 13 | 470226 | 274211 | 199684 |\n",
       "| 2021-12-15 | 2021 | 12 | 15 | 432189 | 251205 | 189841 |\n",
       "| 2021-12-17 | 2021 | 12 | 17 | 360023 | 205032 | 163414 |\n",
       "| 2021-12-19 | 2021 | 12 | 19 | 347184 | 190192 | 158485 |\n",
       "\n"
      ],
      "text/plain": [
       "   date_time  year month day events sessions pages \n",
       "1  2021-12-02 2021 12     2   81487  48361    46558\n",
       "2  2021-12-04 2021 12     4  357090 197734   162809\n",
       "3  2021-12-06 2021 12     6  472058 275630   201335\n",
       "4  2021-12-08 2021 12     8  456801 265741   196529\n",
       "5  2021-12-10 2021 12    10  401310 230381   177447\n",
       "6  2021-12-12 2021 12    12  403471 224700   175329\n",
       "7  2021-12-14 2021 12    14  453431 263440   195867\n",
       "8  2021-12-16 2021 12    16  407185 235108   179875\n",
       "9  2021-12-18 2021 12    18  308216 168579   145481\n",
       "10 2021-12-20 2021 12    20  386747 221645   174713\n",
       "11 2021-12-03 2021 12     3  393934 226594   176208\n",
       "12 2021-12-05 2021 12     5  408748 227258   178257\n",
       "13 2021-12-07 2021 12     7  460858 269573   199129\n",
       "14 2021-12-09 2021 12     9  443695 256186   191410\n",
       "15 2021-12-11 2021 12    11  351576 193273   161181\n",
       "16 2021-12-13 2021 12    13  470226 274211   199684\n",
       "17 2021-12-15 2021 12    15  432189 251205   189841\n",
       "18 2021-12-17 2021 12    17  360023 205032   163414\n",
       "19 2021-12-19 2021 12    19  347184 190192   158485"
      ]
     },
     "metadata": {},
     "output_type": "display_data"
    }
   ],
   "source": [
    "df"
   ]
  },
  {
   "cell_type": "markdown",
   "id": "e232d1f1",
   "metadata": {},
   "source": [
    "__Note:__   \n",
    "\n",
    "The events are available sine 12-02-2021"
   ]
  },
  {
   "cell_type": "markdown",
   "id": "e8e8db9a",
   "metadata": {},
   "source": [
    "# By wiki"
   ]
  },
  {
   "cell_type": "code",
   "execution_count": 16,
   "id": "b8357a90",
   "metadata": {},
   "outputs": [],
   "source": [
    "query <- \n",
    "\"\n",
    "select meta.domain, COUNT(1) AS events,\n",
    "COUNT(DISTINCT web_session_id) AS sessions,\n",
    "COUNT(DISTINCT page_id) AS pages\n",
    "FROM event.mediawiki_web_ui_scroll\n",
    "WHERE year=2021\n",
    "GROUP BY meta.domain\n",
    "ORDER BY meta.domain\n",
    "LIMIT 10000\n",
    "\""
   ]
  },
  {
   "cell_type": "code",
   "execution_count": 17,
   "id": "da4ac076",
   "metadata": {},
   "outputs": [
    {
     "name": "stderr",
     "output_type": "stream",
     "text": [
      "Don't forget to authenticate with Kerberos using kinit\n",
      "\n"
     ]
    }
   ],
   "source": [
    "df <-  wmfdata::query_hive(query)"
   ]
  },
  {
   "cell_type": "code",
   "execution_count": 18,
   "id": "169323dc",
   "metadata": {},
   "outputs": [
    {
     "data": {
      "text/html": [
       "<table class=\"dataframe\">\n",
       "<caption>A data.frame: 214 × 4</caption>\n",
       "<thead>\n",
       "\t<tr><th scope=col>domain</th><th scope=col>events</th><th scope=col>sessions</th><th scope=col>pages</th></tr>\n",
       "\t<tr><th scope=col>&lt;chr&gt;</th><th scope=col>&lt;int&gt;</th><th scope=col>&lt;int&gt;</th><th scope=col>&lt;int&gt;</th></tr>\n",
       "</thead>\n",
       "<tbody>\n",
       "\t<tr><td>api.wikimedia.org    </td><td>    2</td><td>    1</td><td>    2</td></tr>\n",
       "\t<tr><td>ar.wikipedia.org     </td><td> 4300</td><td>  148</td><td> 1993</td></tr>\n",
       "\t<tr><td>ar.wikiquote.org     </td><td>    1</td><td>    1</td><td>    1</td></tr>\n",
       "\t<tr><td>ar.wikisource.org    </td><td>  541</td><td>   13</td><td>  170</td></tr>\n",
       "\t<tr><td>ar.wiktionary.org    </td><td>    5</td><td>    1</td><td>    2</td></tr>\n",
       "\t<tr><td>ary.wikipedia.org    </td><td>    2</td><td>    1</td><td>    2</td></tr>\n",
       "\t<tr><td>arz.wikipedia.org    </td><td>   21</td><td>    2</td><td>    4</td></tr>\n",
       "\t<tr><td>ast.wiktionary.org   </td><td>    1</td><td>    1</td><td>    1</td></tr>\n",
       "\t<tr><td>avk.wikipedia.org    </td><td>    1</td><td>    1</td><td>    1</td></tr>\n",
       "\t<tr><td>az.wikipedia.org     </td><td>   30</td><td>   13</td><td>   17</td></tr>\n",
       "\t<tr><td>ban.wikipedia.org    </td><td>    8</td><td>    2</td><td>    3</td></tr>\n",
       "\t<tr><td>be.wikipedia.org     </td><td>    1</td><td>    1</td><td>    1</td></tr>\n",
       "\t<tr><td>bg.wikipedia.org     </td><td>  484</td><td>   21</td><td>  298</td></tr>\n",
       "\t<tr><td>bjn.wikipedia.org    </td><td>   40</td><td>    4</td><td>   10</td></tr>\n",
       "\t<tr><td>bn.wiki.hancel.org   </td><td>    1</td><td>    1</td><td>    1</td></tr>\n",
       "\t<tr><td>bn.wikibooks.org     </td><td>   60</td><td>    7</td><td>   16</td></tr>\n",
       "\t<tr><td>bn.wikipedia.org     </td><td>39828</td><td>21047</td><td>12160</td></tr>\n",
       "\t<tr><td>bn.wikivoyage.org    </td><td>   15</td><td>    6</td><td>    8</td></tr>\n",
       "\t<tr><td>bn.wiktionary.org    </td><td>  485</td><td>    9</td><td>   40</td></tr>\n",
       "\t<tr><td>bpy.wikipedia.org    </td><td>   56</td><td>    2</td><td>   22</td></tr>\n",
       "\t<tr><td>ca.wikibooks.org     </td><td>    1</td><td>    1</td><td>    1</td></tr>\n",
       "\t<tr><td>ca.wikipedia.org     </td><td> 3374</td><td>  143</td><td>  873</td></tr>\n",
       "\t<tr><td>ca.wiktionary.org    </td><td>   67</td><td>    5</td><td>   20</td></tr>\n",
       "\t<tr><td>ceb.wikipedia.org    </td><td>   31</td><td>    6</td><td>   16</td></tr>\n",
       "\t<tr><td>commons.wikimedia.org</td><td>11004</td><td>  826</td><td> 4427</td></tr>\n",
       "\t<tr><td>cs.wikipedia.org     </td><td> 5180</td><td>  162</td><td> 1640</td></tr>\n",
       "\t<tr><td>cs.wiktionary.org    </td><td>   36</td><td>    1</td><td>   17</td></tr>\n",
       "\t<tr><td>cy.wikipedia.org     </td><td>   67</td><td>    4</td><td>   35</td></tr>\n",
       "\t<tr><td>da.wikipedia.org     </td><td>  138</td><td>   16</td><td>   66</td></tr>\n",
       "\t<tr><td>de.wikibooks.org     </td><td>  115</td><td>    3</td><td>   23</td></tr>\n",
       "\t<tr><td>⋮</td><td>⋮</td><td>⋮</td><td>⋮</td></tr>\n",
       "\t<tr><td>tr.wiktionary.org         </td><td>   29</td><td>   5</td><td>  14</td></tr>\n",
       "\t<tr><td>tt.wikipedia.org          </td><td>    2</td><td>   2</td><td>   2</td></tr>\n",
       "\t<tr><td>uk.wikipedia.org          </td><td> 1385</td><td>  79</td><td> 718</td></tr>\n",
       "\t<tr><td>uk.wikiquote.org          </td><td>    9</td><td>   1</td><td>   3</td></tr>\n",
       "\t<tr><td>uk.wiktionary.org         </td><td>   40</td><td>   2</td><td>  21</td></tr>\n",
       "\t<tr><td>ur.wikipedia.org          </td><td>   11</td><td>   5</td><td>   5</td></tr>\n",
       "\t<tr><td>vec.wikipedia.org         </td><td>  355</td><td> 175</td><td> 164</td></tr>\n",
       "\t<tr><td>vi.wikibooks.org          </td><td>    7</td><td>   2</td><td>   2</td></tr>\n",
       "\t<tr><td>vi.wikipedia.org          </td><td>12254</td><td> 605</td><td>2807</td></tr>\n",
       "\t<tr><td>vi.wikiquote.org          </td><td>    3</td><td>   3</td><td>   3</td></tr>\n",
       "\t<tr><td>vi.wikivoyage.org         </td><td>    7</td><td>   3</td><td>   1</td></tr>\n",
       "\t<tr><td>vi.wiktionary.org         </td><td>   38</td><td>   1</td><td>   5</td></tr>\n",
       "\t<tr><td>wa.wikipedia.org          </td><td>   17</td><td>   1</td><td>   9</td></tr>\n",
       "\t<tr><td>wa.wiktionary.org         </td><td>   86</td><td>   2</td><td>  37</td></tr>\n",
       "\t<tr><td>wikimania.wikimedia.org   </td><td>    4</td><td>   3</td><td>   3</td></tr>\n",
       "\t<tr><td>wikisource.org            </td><td>   91</td><td>   5</td><td>  31</td></tr>\n",
       "\t<tr><td>wikitech.wikimedia.org    </td><td>   28</td><td>   6</td><td>  12</td></tr>\n",
       "\t<tr><td>www.mediawiki.org         </td><td> 1914</td><td> 229</td><td> 732</td></tr>\n",
       "\t<tr><td>www.turkcewiki.org        </td><td>  283</td><td> 209</td><td> 182</td></tr>\n",
       "\t<tr><td>www.wikidata.org          </td><td>12474</td><td> 513</td><td>6043</td></tr>\n",
       "\t<tr><td>xmf.wikipedia.org         </td><td>    1</td><td>   1</td><td>   1</td></tr>\n",
       "\t<tr><td>zh-classical.wikipedia.org</td><td>    2</td><td>   2</td><td>   1</td></tr>\n",
       "\t<tr><td>zh-yue.wikipedia.org      </td><td>   13</td><td>   3</td><td>   3</td></tr>\n",
       "\t<tr><td>zh.wikinews.org           </td><td>  124</td><td>  14</td><td>  39</td></tr>\n",
       "\t<tr><td>zh.wikipedia.iwiki.eu.org </td><td>    6</td><td>   2</td><td>   3</td></tr>\n",
       "\t<tr><td>zh.wikipedia.org          </td><td>18126</td><td>1108</td><td>6428</td></tr>\n",
       "\t<tr><td>zh.wikiquote.org          </td><td>   41</td><td>   3</td><td>  13</td></tr>\n",
       "\t<tr><td>zh.wikisource.org         </td><td>   89</td><td>  27</td><td>  40</td></tr>\n",
       "\t<tr><td>zh.wikiversity.org        </td><td>   22</td><td>   2</td><td>   9</td></tr>\n",
       "\t<tr><td>zh.wiktionary.org         </td><td>   70</td><td>   9</td><td>  28</td></tr>\n",
       "</tbody>\n",
       "</table>\n"
      ],
      "text/latex": [
       "A data.frame: 214 × 4\n",
       "\\begin{tabular}{llll}\n",
       " domain & events & sessions & pages\\\\\n",
       " <chr> & <int> & <int> & <int>\\\\\n",
       "\\hline\n",
       "\t api.wikimedia.org     &     2 &     1 &     2\\\\\n",
       "\t ar.wikipedia.org      &  4300 &   148 &  1993\\\\\n",
       "\t ar.wikiquote.org      &     1 &     1 &     1\\\\\n",
       "\t ar.wikisource.org     &   541 &    13 &   170\\\\\n",
       "\t ar.wiktionary.org     &     5 &     1 &     2\\\\\n",
       "\t ary.wikipedia.org     &     2 &     1 &     2\\\\\n",
       "\t arz.wikipedia.org     &    21 &     2 &     4\\\\\n",
       "\t ast.wiktionary.org    &     1 &     1 &     1\\\\\n",
       "\t avk.wikipedia.org     &     1 &     1 &     1\\\\\n",
       "\t az.wikipedia.org      &    30 &    13 &    17\\\\\n",
       "\t ban.wikipedia.org     &     8 &     2 &     3\\\\\n",
       "\t be.wikipedia.org      &     1 &     1 &     1\\\\\n",
       "\t bg.wikipedia.org      &   484 &    21 &   298\\\\\n",
       "\t bjn.wikipedia.org     &    40 &     4 &    10\\\\\n",
       "\t bn.wiki.hancel.org    &     1 &     1 &     1\\\\\n",
       "\t bn.wikibooks.org      &    60 &     7 &    16\\\\\n",
       "\t bn.wikipedia.org      & 39828 & 21047 & 12160\\\\\n",
       "\t bn.wikivoyage.org     &    15 &     6 &     8\\\\\n",
       "\t bn.wiktionary.org     &   485 &     9 &    40\\\\\n",
       "\t bpy.wikipedia.org     &    56 &     2 &    22\\\\\n",
       "\t ca.wikibooks.org      &     1 &     1 &     1\\\\\n",
       "\t ca.wikipedia.org      &  3374 &   143 &   873\\\\\n",
       "\t ca.wiktionary.org     &    67 &     5 &    20\\\\\n",
       "\t ceb.wikipedia.org     &    31 &     6 &    16\\\\\n",
       "\t commons.wikimedia.org & 11004 &   826 &  4427\\\\\n",
       "\t cs.wikipedia.org      &  5180 &   162 &  1640\\\\\n",
       "\t cs.wiktionary.org     &    36 &     1 &    17\\\\\n",
       "\t cy.wikipedia.org      &    67 &     4 &    35\\\\\n",
       "\t da.wikipedia.org      &   138 &    16 &    66\\\\\n",
       "\t de.wikibooks.org      &   115 &     3 &    23\\\\\n",
       "\t ⋮ & ⋮ & ⋮ & ⋮\\\\\n",
       "\t tr.wiktionary.org          &    29 &    5 &   14\\\\\n",
       "\t tt.wikipedia.org           &     2 &    2 &    2\\\\\n",
       "\t uk.wikipedia.org           &  1385 &   79 &  718\\\\\n",
       "\t uk.wikiquote.org           &     9 &    1 &    3\\\\\n",
       "\t uk.wiktionary.org          &    40 &    2 &   21\\\\\n",
       "\t ur.wikipedia.org           &    11 &    5 &    5\\\\\n",
       "\t vec.wikipedia.org          &   355 &  175 &  164\\\\\n",
       "\t vi.wikibooks.org           &     7 &    2 &    2\\\\\n",
       "\t vi.wikipedia.org           & 12254 &  605 & 2807\\\\\n",
       "\t vi.wikiquote.org           &     3 &    3 &    3\\\\\n",
       "\t vi.wikivoyage.org          &     7 &    3 &    1\\\\\n",
       "\t vi.wiktionary.org          &    38 &    1 &    5\\\\\n",
       "\t wa.wikipedia.org           &    17 &    1 &    9\\\\\n",
       "\t wa.wiktionary.org          &    86 &    2 &   37\\\\\n",
       "\t wikimania.wikimedia.org    &     4 &    3 &    3\\\\\n",
       "\t wikisource.org             &    91 &    5 &   31\\\\\n",
       "\t wikitech.wikimedia.org     &    28 &    6 &   12\\\\\n",
       "\t www.mediawiki.org          &  1914 &  229 &  732\\\\\n",
       "\t www.turkcewiki.org         &   283 &  209 &  182\\\\\n",
       "\t www.wikidata.org           & 12474 &  513 & 6043\\\\\n",
       "\t xmf.wikipedia.org          &     1 &    1 &    1\\\\\n",
       "\t zh-classical.wikipedia.org &     2 &    2 &    1\\\\\n",
       "\t zh-yue.wikipedia.org       &    13 &    3 &    3\\\\\n",
       "\t zh.wikinews.org            &   124 &   14 &   39\\\\\n",
       "\t zh.wikipedia.iwiki.eu.org  &     6 &    2 &    3\\\\\n",
       "\t zh.wikipedia.org           & 18126 & 1108 & 6428\\\\\n",
       "\t zh.wikiquote.org           &    41 &    3 &   13\\\\\n",
       "\t zh.wikisource.org          &    89 &   27 &   40\\\\\n",
       "\t zh.wikiversity.org         &    22 &    2 &    9\\\\\n",
       "\t zh.wiktionary.org          &    70 &    9 &   28\\\\\n",
       "\\end{tabular}\n"
      ],
      "text/markdown": [
       "\n",
       "A data.frame: 214 × 4\n",
       "\n",
       "| domain &lt;chr&gt; | events &lt;int&gt; | sessions &lt;int&gt; | pages &lt;int&gt; |\n",
       "|---|---|---|---|\n",
       "| api.wikimedia.org     |     2 |     1 |     2 |\n",
       "| ar.wikipedia.org      |  4300 |   148 |  1993 |\n",
       "| ar.wikiquote.org      |     1 |     1 |     1 |\n",
       "| ar.wikisource.org     |   541 |    13 |   170 |\n",
       "| ar.wiktionary.org     |     5 |     1 |     2 |\n",
       "| ary.wikipedia.org     |     2 |     1 |     2 |\n",
       "| arz.wikipedia.org     |    21 |     2 |     4 |\n",
       "| ast.wiktionary.org    |     1 |     1 |     1 |\n",
       "| avk.wikipedia.org     |     1 |     1 |     1 |\n",
       "| az.wikipedia.org      |    30 |    13 |    17 |\n",
       "| ban.wikipedia.org     |     8 |     2 |     3 |\n",
       "| be.wikipedia.org      |     1 |     1 |     1 |\n",
       "| bg.wikipedia.org      |   484 |    21 |   298 |\n",
       "| bjn.wikipedia.org     |    40 |     4 |    10 |\n",
       "| bn.wiki.hancel.org    |     1 |     1 |     1 |\n",
       "| bn.wikibooks.org      |    60 |     7 |    16 |\n",
       "| bn.wikipedia.org      | 39828 | 21047 | 12160 |\n",
       "| bn.wikivoyage.org     |    15 |     6 |     8 |\n",
       "| bn.wiktionary.org     |   485 |     9 |    40 |\n",
       "| bpy.wikipedia.org     |    56 |     2 |    22 |\n",
       "| ca.wikibooks.org      |     1 |     1 |     1 |\n",
       "| ca.wikipedia.org      |  3374 |   143 |   873 |\n",
       "| ca.wiktionary.org     |    67 |     5 |    20 |\n",
       "| ceb.wikipedia.org     |    31 |     6 |    16 |\n",
       "| commons.wikimedia.org | 11004 |   826 |  4427 |\n",
       "| cs.wikipedia.org      |  5180 |   162 |  1640 |\n",
       "| cs.wiktionary.org     |    36 |     1 |    17 |\n",
       "| cy.wikipedia.org      |    67 |     4 |    35 |\n",
       "| da.wikipedia.org      |   138 |    16 |    66 |\n",
       "| de.wikibooks.org      |   115 |     3 |    23 |\n",
       "| ⋮ | ⋮ | ⋮ | ⋮ |\n",
       "| tr.wiktionary.org          |    29 |    5 |   14 |\n",
       "| tt.wikipedia.org           |     2 |    2 |    2 |\n",
       "| uk.wikipedia.org           |  1385 |   79 |  718 |\n",
       "| uk.wikiquote.org           |     9 |    1 |    3 |\n",
       "| uk.wiktionary.org          |    40 |    2 |   21 |\n",
       "| ur.wikipedia.org           |    11 |    5 |    5 |\n",
       "| vec.wikipedia.org          |   355 |  175 |  164 |\n",
       "| vi.wikibooks.org           |     7 |    2 |    2 |\n",
       "| vi.wikipedia.org           | 12254 |  605 | 2807 |\n",
       "| vi.wikiquote.org           |     3 |    3 |    3 |\n",
       "| vi.wikivoyage.org          |     7 |    3 |    1 |\n",
       "| vi.wiktionary.org          |    38 |    1 |    5 |\n",
       "| wa.wikipedia.org           |    17 |    1 |    9 |\n",
       "| wa.wiktionary.org          |    86 |    2 |   37 |\n",
       "| wikimania.wikimedia.org    |     4 |    3 |    3 |\n",
       "| wikisource.org             |    91 |    5 |   31 |\n",
       "| wikitech.wikimedia.org     |    28 |    6 |   12 |\n",
       "| www.mediawiki.org          |  1914 |  229 |  732 |\n",
       "| www.turkcewiki.org         |   283 |  209 |  182 |\n",
       "| www.wikidata.org           | 12474 |  513 | 6043 |\n",
       "| xmf.wikipedia.org          |     1 |    1 |    1 |\n",
       "| zh-classical.wikipedia.org |     2 |    2 |    1 |\n",
       "| zh-yue.wikipedia.org       |    13 |    3 |    3 |\n",
       "| zh.wikinews.org            |   124 |   14 |   39 |\n",
       "| zh.wikipedia.iwiki.eu.org  |     6 |    2 |    3 |\n",
       "| zh.wikipedia.org           | 18126 | 1108 | 6428 |\n",
       "| zh.wikiquote.org           |    41 |    3 |   13 |\n",
       "| zh.wikisource.org          |    89 |   27 |   40 |\n",
       "| zh.wikiversity.org         |    22 |    2 |    9 |\n",
       "| zh.wiktionary.org          |    70 |    9 |   28 |\n",
       "\n"
      ],
      "text/plain": [
       "    domain                     events sessions pages\n",
       "1   api.wikimedia.org              2      1        2\n",
       "2   ar.wikipedia.org            4300    148     1993\n",
       "3   ar.wikiquote.org               1      1        1\n",
       "4   ar.wikisource.org            541     13      170\n",
       "5   ar.wiktionary.org              5      1        2\n",
       "6   ary.wikipedia.org              2      1        2\n",
       "7   arz.wikipedia.org             21      2        4\n",
       "8   ast.wiktionary.org             1      1        1\n",
       "9   avk.wikipedia.org              1      1        1\n",
       "10  az.wikipedia.org              30     13       17\n",
       "11  ban.wikipedia.org              8      2        3\n",
       "12  be.wikipedia.org               1      1        1\n",
       "13  bg.wikipedia.org             484     21      298\n",
       "14  bjn.wikipedia.org             40      4       10\n",
       "15  bn.wiki.hancel.org             1      1        1\n",
       "16  bn.wikibooks.org              60      7       16\n",
       "17  bn.wikipedia.org           39828  21047    12160\n",
       "18  bn.wikivoyage.org             15      6        8\n",
       "19  bn.wiktionary.org            485      9       40\n",
       "20  bpy.wikipedia.org             56      2       22\n",
       "21  ca.wikibooks.org               1      1        1\n",
       "22  ca.wikipedia.org            3374    143      873\n",
       "23  ca.wiktionary.org             67      5       20\n",
       "24  ceb.wikipedia.org             31      6       16\n",
       "25  commons.wikimedia.org      11004    826     4427\n",
       "26  cs.wikipedia.org            5180    162     1640\n",
       "27  cs.wiktionary.org             36      1       17\n",
       "28  cy.wikipedia.org              67      4       35\n",
       "29  da.wikipedia.org             138     16       66\n",
       "30  de.wikibooks.org             115      3       23\n",
       "⋮   ⋮                          ⋮      ⋮        ⋮    \n",
       "185 tr.wiktionary.org             29     5       14 \n",
       "186 tt.wikipedia.org               2     2        2 \n",
       "187 uk.wikipedia.org            1385    79      718 \n",
       "188 uk.wikiquote.org               9     1        3 \n",
       "189 uk.wiktionary.org             40     2       21 \n",
       "190 ur.wikipedia.org              11     5        5 \n",
       "191 vec.wikipedia.org            355   175      164 \n",
       "192 vi.wikibooks.org               7     2        2 \n",
       "193 vi.wikipedia.org           12254   605     2807 \n",
       "194 vi.wikiquote.org               3     3        3 \n",
       "195 vi.wikivoyage.org              7     3        1 \n",
       "196 vi.wiktionary.org             38     1        5 \n",
       "197 wa.wikipedia.org              17     1        9 \n",
       "198 wa.wiktionary.org             86     2       37 \n",
       "199 wikimania.wikimedia.org        4     3        3 \n",
       "200 wikisource.org                91     5       31 \n",
       "201 wikitech.wikimedia.org        28     6       12 \n",
       "202 www.mediawiki.org           1914   229      732 \n",
       "203 www.turkcewiki.org           283   209      182 \n",
       "204 www.wikidata.org           12474   513     6043 \n",
       "205 xmf.wikipedia.org              1     1        1 \n",
       "206 zh-classical.wikipedia.org     2     2        1 \n",
       "207 zh-yue.wikipedia.org          13     3        3 \n",
       "208 zh.wikinews.org              124    14       39 \n",
       "209 zh.wikipedia.iwiki.eu.org      6     2        3 \n",
       "210 zh.wikipedia.org           18126  1108     6428 \n",
       "211 zh.wikiquote.org              41     3       13 \n",
       "212 zh.wikisource.org             89    27       40 \n",
       "213 zh.wikiversity.org            22     2        9 \n",
       "214 zh.wiktionary.org             70     9       28 "
      ]
     },
     "metadata": {},
     "output_type": "display_data"
    }
   ],
   "source": [
    "df"
   ]
  },
  {
   "cell_type": "markdown",
   "id": "3fb1b736",
   "metadata": {},
   "source": [
    "__Note:__\n",
    "\n",
    "The instrumenation is enabled on all wiki projects"
   ]
  },
  {
   "cell_type": "markdown",
   "id": "9dad6883",
   "metadata": {},
   "source": [
    "# By action"
   ]
  },
  {
   "cell_type": "code",
   "execution_count": 19,
   "id": "e41dc700",
   "metadata": {},
   "outputs": [],
   "source": [
    "query <- \n",
    "\"\n",
    "select action, COUNT(1) AS events,\n",
    "COUNT(DISTINCT web_session_id) AS sessions,\n",
    "COUNT(DISTINCT page_id) AS pages\n",
    "FROM event.mediawiki_web_ui_scroll\n",
    "WHERE year=2021\n",
    "GROUP BY action\n",
    "\""
   ]
  },
  {
   "cell_type": "code",
   "execution_count": 20,
   "id": "23266464",
   "metadata": {},
   "outputs": [
    {
     "name": "stderr",
     "output_type": "stream",
     "text": [
      "Don't forget to authenticate with Kerberos using kinit\n",
      "\n"
     ]
    }
   ],
   "source": [
    "df <-  wmfdata::query_hive(query)"
   ]
  },
  {
   "cell_type": "code",
   "execution_count": 21,
   "id": "131e01df",
   "metadata": {},
   "outputs": [
    {
     "data": {
      "text/html": [
       "<table class=\"dataframe\">\n",
       "<caption>A data.frame: 1 × 4</caption>\n",
       "<thead>\n",
       "\t<tr><th scope=col>action</th><th scope=col>events</th><th scope=col>sessions</th><th scope=col>pages</th></tr>\n",
       "\t<tr><th scope=col>&lt;chr&gt;</th><th scope=col>&lt;int&gt;</th><th scope=col>&lt;int&gt;</th><th scope=col>&lt;int&gt;</th></tr>\n",
       "</thead>\n",
       "<tbody>\n",
       "\t<tr><td>scroll-to-top</td><td>7396229</td><td>4018155</td><td>1144575</td></tr>\n",
       "</tbody>\n",
       "</table>\n"
      ],
      "text/latex": [
       "A data.frame: 1 × 4\n",
       "\\begin{tabular}{llll}\n",
       " action & events & sessions & pages\\\\\n",
       " <chr> & <int> & <int> & <int>\\\\\n",
       "\\hline\n",
       "\t scroll-to-top & 7396229 & 4018155 & 1144575\\\\\n",
       "\\end{tabular}\n"
      ],
      "text/markdown": [
       "\n",
       "A data.frame: 1 × 4\n",
       "\n",
       "| action &lt;chr&gt; | events &lt;int&gt; | sessions &lt;int&gt; | pages &lt;int&gt; |\n",
       "|---|---|---|---|\n",
       "| scroll-to-top | 7396229 | 4018155 | 1144575 |\n",
       "\n"
      ],
      "text/plain": [
       "  action        events  sessions pages  \n",
       "1 scroll-to-top 7396229 4018155  1144575"
      ]
     },
     "metadata": {},
     "output_type": "display_data"
    }
   ],
   "source": [
    "df"
   ]
  },
  {
   "cell_type": "markdown",
   "id": "b50da7a2",
   "metadata": {},
   "source": [
    "__Note:__   \n",
    "\n",
    "Only one type of action in schema : scroll-to-top"
   ]
  },
  {
   "cell_type": "markdown",
   "id": "34c73799",
   "metadata": {},
   "source": [
    "# By access method"
   ]
  },
  {
   "cell_type": "code",
   "execution_count": 22,
   "id": "95ce864b",
   "metadata": {},
   "outputs": [],
   "source": [
    "query <- \n",
    "\"\n",
    "select access_method, COUNT(1) AS events,\n",
    "COUNT(DISTINCT web_session_id) AS sessions,\n",
    "COUNT(DISTINCT page_id) AS pages\n",
    "FROM event.mediawiki_web_ui_scroll\n",
    "WHERE year=2021\n",
    "GROUP BY access_method\n",
    "\""
   ]
  },
  {
   "cell_type": "code",
   "execution_count": 23,
   "id": "69eea8e8",
   "metadata": {},
   "outputs": [
    {
     "name": "stderr",
     "output_type": "stream",
     "text": [
      "Don't forget to authenticate with Kerberos using kinit\n",
      "\n"
     ]
    }
   ],
   "source": [
    "df <- wmfdata::query_hive(query)"
   ]
  },
  {
   "cell_type": "code",
   "execution_count": 24,
   "id": "f813a7b9",
   "metadata": {},
   "outputs": [
    {
     "data": {
      "text/html": [
       "<table class=\"dataframe\">\n",
       "<caption>A data.frame: 1 × 4</caption>\n",
       "<thead>\n",
       "\t<tr><th scope=col>access_method</th><th scope=col>events</th><th scope=col>sessions</th><th scope=col>pages</th></tr>\n",
       "\t<tr><th scope=col>&lt;chr&gt;</th><th scope=col>&lt;int&gt;</th><th scope=col>&lt;int&gt;</th><th scope=col>&lt;int&gt;</th></tr>\n",
       "</thead>\n",
       "<tbody>\n",
       "\t<tr><td>desktop</td><td>7396229</td><td>4018155</td><td>1144575</td></tr>\n",
       "</tbody>\n",
       "</table>\n"
      ],
      "text/latex": [
       "A data.frame: 1 × 4\n",
       "\\begin{tabular}{llll}\n",
       " access\\_method & events & sessions & pages\\\\\n",
       " <chr> & <int> & <int> & <int>\\\\\n",
       "\\hline\n",
       "\t desktop & 7396229 & 4018155 & 1144575\\\\\n",
       "\\end{tabular}\n"
      ],
      "text/markdown": [
       "\n",
       "A data.frame: 1 × 4\n",
       "\n",
       "| access_method &lt;chr&gt; | events &lt;int&gt; | sessions &lt;int&gt; | pages &lt;int&gt; |\n",
       "|---|---|---|---|\n",
       "| desktop | 7396229 | 4018155 | 1144575 |\n",
       "\n"
      ],
      "text/plain": [
       "  access_method events  sessions pages  \n",
       "1 desktop       7396229 4018155  1144575"
      ]
     },
     "metadata": {},
     "output_type": "display_data"
    }
   ],
   "source": [
    "df"
   ]
  },
  {
   "cell_type": "markdown",
   "id": "e56bd1fe",
   "metadata": {},
   "source": [
    "__Note:__\n",
    "\n",
    "Only one type of access_method: `desktop`"
   ]
  },
  {
   "cell_type": "markdown",
   "id": "696ec2b1",
   "metadata": {},
   "source": [
    "# By anonymous user"
   ]
  },
  {
   "cell_type": "code",
   "execution_count": 25,
   "id": "82c8933c",
   "metadata": {},
   "outputs": [],
   "source": [
    "query <- \n",
    "\"\n",
    "select is_anon, COUNT(1) AS events,\n",
    "COUNT(DISTINCT web_session_id) AS sessions,\n",
    "COUNT(DISTINCT page_id) AS pages\n",
    "FROM event.mediawiki_web_ui_scroll\n",
    "WHERE year=2021\n",
    "GROUP BY is_anon\n",
    "\""
   ]
  },
  {
   "cell_type": "code",
   "execution_count": 26,
   "id": "80d1e6b5",
   "metadata": {},
   "outputs": [
    {
     "name": "stderr",
     "output_type": "stream",
     "text": [
      "Don't forget to authenticate with Kerberos using kinit\n",
      "\n"
     ]
    }
   ],
   "source": [
    "df <- wmfdata::query_hive(query)"
   ]
  },
  {
   "cell_type": "code",
   "execution_count": 27,
   "id": "a43bda3b",
   "metadata": {},
   "outputs": [
    {
     "data": {
      "text/html": [
       "<table class=\"dataframe\">\n",
       "<caption>A data.frame: 2 × 4</caption>\n",
       "<thead>\n",
       "\t<tr><th scope=col>is_anon</th><th scope=col>events</th><th scope=col>sessions</th><th scope=col>pages</th></tr>\n",
       "\t<tr><th scope=col>&lt;chr&gt;</th><th scope=col>&lt;int&gt;</th><th scope=col>&lt;int&gt;</th><th scope=col>&lt;int&gt;</th></tr>\n",
       "</thead>\n",
       "<tbody>\n",
       "\t<tr><td>false</td><td>1451302</td><td> 171245</td><td>412911</td></tr>\n",
       "\t<tr><td>true </td><td>5944927</td><td>3850963</td><td>943348</td></tr>\n",
       "</tbody>\n",
       "</table>\n"
      ],
      "text/latex": [
       "A data.frame: 2 × 4\n",
       "\\begin{tabular}{llll}\n",
       " is\\_anon & events & sessions & pages\\\\\n",
       " <chr> & <int> & <int> & <int>\\\\\n",
       "\\hline\n",
       "\t false & 1451302 &  171245 & 412911\\\\\n",
       "\t true  & 5944927 & 3850963 & 943348\\\\\n",
       "\\end{tabular}\n"
      ],
      "text/markdown": [
       "\n",
       "A data.frame: 2 × 4\n",
       "\n",
       "| is_anon &lt;chr&gt; | events &lt;int&gt; | sessions &lt;int&gt; | pages &lt;int&gt; |\n",
       "|---|---|---|---|\n",
       "| false | 1451302 |  171245 | 412911 |\n",
       "| true  | 5944927 | 3850963 | 943348 |\n",
       "\n"
      ],
      "text/plain": [
       "  is_anon events  sessions pages \n",
       "1 false   1451302  171245  412911\n",
       "2 true    5944927 3850963  943348"
      ]
     },
     "metadata": {},
     "output_type": "display_data"
    }
   ],
   "source": [
    "df"
   ]
  },
  {
   "cell_type": "markdown",
   "id": "c05316fb",
   "metadata": {},
   "source": [
    "# By agent type"
   ]
  },
  {
   "cell_type": "code",
   "execution_count": 36,
   "id": "42c14f69",
   "metadata": {},
   "outputs": [],
   "source": [
    "query <- \"\n",
    "SELECT CASE WHEN user_agent_map['device_family']='Spider' THEN 'Spider' ELSE 'User' END AS agent_type,\n",
    "COUNT(1) AS events,\n",
    "COUNT(DISTINCT web_session_id) AS sessions,\n",
    "COUNT(DISTINCT page_id) AS pages\n",
    "FROM event.mediawiki_web_ui_scroll\n",
    "WHERE year=2021\n",
    "GROUP BY CASE WHEN user_agent_map['device_family']='Spider' THEN 'Spider' ELSE 'User' END\n",
    "\"\n"
   ]
  },
  {
   "cell_type": "code",
   "execution_count": 37,
   "id": "b81db29c",
   "metadata": {},
   "outputs": [
    {
     "name": "stderr",
     "output_type": "stream",
     "text": [
      "Don't forget to authenticate with Kerberos using kinit\n",
      "\n"
     ]
    }
   ],
   "source": [
    "df <- wmfdata::query_hive(query)"
   ]
  },
  {
   "cell_type": "code",
   "execution_count": 38,
   "id": "9b0ecad6",
   "metadata": {},
   "outputs": [
    {
     "data": {
      "text/html": [
       "<table class=\"dataframe\">\n",
       "<caption>A data.frame: 2 × 4</caption>\n",
       "<thead>\n",
       "\t<tr><th scope=col>agent_type</th><th scope=col>events</th><th scope=col>sessions</th><th scope=col>pages</th></tr>\n",
       "\t<tr><th scope=col>&lt;chr&gt;</th><th scope=col>&lt;int&gt;</th><th scope=col>&lt;int&gt;</th><th scope=col>&lt;int&gt;</th></tr>\n",
       "</thead>\n",
       "<tbody>\n",
       "\t<tr><td>Spider</td><td>      25</td><td>     15</td><td>     15</td></tr>\n",
       "\t<tr><td>User  </td><td>11222169</td><td>5987066</td><td>1417869</td></tr>\n",
       "</tbody>\n",
       "</table>\n"
      ],
      "text/latex": [
       "A data.frame: 2 × 4\n",
       "\\begin{tabular}{llll}\n",
       " agent\\_type & events & sessions & pages\\\\\n",
       " <chr> & <int> & <int> & <int>\\\\\n",
       "\\hline\n",
       "\t Spider &       25 &      15 &      15\\\\\n",
       "\t User   & 11222169 & 5987066 & 1417869\\\\\n",
       "\\end{tabular}\n"
      ],
      "text/markdown": [
       "\n",
       "A data.frame: 2 × 4\n",
       "\n",
       "| agent_type &lt;chr&gt; | events &lt;int&gt; | sessions &lt;int&gt; | pages &lt;int&gt; |\n",
       "|---|---|---|---|\n",
       "| Spider |       25 |      15 |      15 |\n",
       "| User   | 11222169 | 5987066 | 1417869 |\n",
       "\n"
      ],
      "text/plain": [
       "  agent_type events   sessions pages  \n",
       "1 Spider           25      15       15\n",
       "2 User       11222169 5987066  1417869"
      ]
     },
     "metadata": {},
     "output_type": "display_data"
    }
   ],
   "source": [
    "df"
   ]
  },
  {
   "cell_type": "markdown",
   "id": "7109b8e2",
   "metadata": {},
   "source": [
    "__Note:__  \n",
    "\n",
    "We can identify and exclude `spider` in analysis"
   ]
  },
  {
   "cell_type": "code",
   "execution_count": null,
   "id": "e9b7b35d",
   "metadata": {},
   "outputs": [],
   "source": []
  }
 ],
 "metadata": {
  "kernelspec": {
   "display_name": "R",
   "language": "R",
   "name": "ir"
  },
  "language_info": {
   "codemirror_mode": "r",
   "file_extension": ".r",
   "mimetype": "text/x-r-source",
   "name": "R",
   "pygments_lexer": "r",
   "version": "3.5.2"
  }
 },
 "nbformat": 4,
 "nbformat_minor": 5
}
